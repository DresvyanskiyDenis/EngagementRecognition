{
 "cells": [
  {
   "cell_type": "code",
   "execution_count": 1,
   "metadata": {
    "collapsed": true,
    "pycharm": {
     "name": "#%%\n"
    }
   },
   "outputs": [],
   "source": [
    "from typing import List, Dict\n",
    "\n",
    "import numpy as np\n",
    "import pandas as pd\n",
    "import glob\n",
    "import os\n",
    "import re\n",
    "import seaborn as sns\n",
    "from fitter import Fitter, get_common_distributions"
   ]
  },
  {
   "cell_type": "code",
   "execution_count": null,
   "outputs": [],
   "source": [],
   "metadata": {
    "collapsed": false,
    "pycharm": {
     "name": "#%%\n",
     "is_executing": true
    }
   }
  },
  {
   "cell_type": "code",
   "execution_count": 2,
   "outputs": [],
   "source": [
    "def read_all_labels_one_language(path_to_labels):\n",
    "    train_files = glob.glob(os.path.join(path_to_labels, 'train', '*', '*.txt'))\n",
    "    dev_files = glob.glob(os.path.join(path_to_labels, 'dev', '*', '*.txt'))\n",
    "    test_files = glob.glob(os.path.join(path_to_labels, 'test', '*', '*.txt'))\n",
    "    train_labels = []\n",
    "    dev_labels = []\n",
    "    test_labels = []\n",
    "    for file in train_files:\n",
    "        train_labels.append(pd.read_csv(file, sep=' ', header=None))\n",
    "    for file in dev_files:\n",
    "        dev_labels.append(pd.read_csv(file, sep=' ', header=None))\n",
    "    for file in test_files:\n",
    "        test_labels.append(pd.read_csv(file, sep=' ', header=None))\n",
    "    # concatenate them into one dataframe\n",
    "    train_labels = pd.concat(train_labels, ignore_index=True)\n",
    "    dev_labels = pd.concat(dev_labels, ignore_index=True)\n",
    "    test_labels = pd.concat(test_labels, ignore_index=True)\n",
    "    return train_labels, dev_labels, test_labels"
   ],
   "metadata": {
    "collapsed": false,
    "pycharm": {
     "name": "#%%\n"
    }
   }
  },
  {
   "cell_type": "code",
   "execution_count": 3,
   "outputs": [],
   "source": [
    "paths_to_labels_english=r'C:\\Users\\Professional\\Desktop\\NoXi_annotations_reliable_gold_standard_classification_with_additional_train_data\\English'\n",
    "paths_to_labels_german=r'C:\\Users\\Professional\\Desktop\\NoXi_annotations_reliable_gold_standard_classification_with_additional_train_data\\German'\n",
    "paths_to_labels_french=r'C:\\Users\\Professional\\Desktop\\NoXi_annotations_reliable_gold_standard_classification_with_additional_train_data\\French'"
   ],
   "metadata": {
    "collapsed": false,
    "pycharm": {
     "name": "#%%\n"
    }
   }
  },
  {
   "cell_type": "code",
   "execution_count": 4,
   "outputs": [],
   "source": [
    "train_labels_english, dev_labels_english, test_labels_english = read_all_labels_one_language(paths_to_labels_english)\n",
    "train_labels_german, dev_labels_german, test_labels_german = read_all_labels_one_language(paths_to_labels_german)\n",
    "train_labels_french, dev_labels_french, test_labels_french = read_all_labels_one_language(paths_to_labels_french)\n",
    "# concatenate dataframes based on the partition of the dataset\n",
    "train_labels = pd.concat([train_labels_english, train_labels_german, train_labels_french], ignore_index=True)\n",
    "dev_labels = pd.concat([dev_labels_english, dev_labels_german, dev_labels_french], ignore_index=True)\n",
    "test_labels = pd.concat([test_labels_english, test_labels_german, test_labels_french], ignore_index=True)"
   ],
   "metadata": {
    "collapsed": false,
    "pycharm": {
     "name": "#%%\n"
    }
   }
  },
  {
   "cell_type": "code",
   "execution_count": 5,
   "outputs": [
    {
     "name": "stdout",
     "output_type": "stream",
     "text": [
      "      train       dev      test\n",
      "0  0.014533  0.005630  0.009967\n",
      "1  0.095097  0.053751  0.076047\n",
      "2  0.443335  0.413734  0.414659\n",
      "3  0.370165  0.321635  0.424685\n",
      "4  0.076870  0.205249  0.074642\n"
     ]
    },
    {
     "name": "stderr",
     "output_type": "stream",
     "text": [
      "C:\\Users\\Professional\\AppData\\Local\\Temp\\ipykernel_15184\\3831046455.py:5: FutureWarning: Support for multi-dimensional indexing (e.g. `obj[:, None]`) is deprecated and will be removed in a future version.  Convert to a numpy array before indexing instead.\n",
      "  class_proportions = pd.DataFrame(columns=['train', 'dev', 'test'], data=np.concatenate((class_proportions_train[..., np.newaxis], class_proportions_dev[..., np.newaxis], class_proportions_test[..., np.newaxis]), axis=1))\n"
     ]
    }
   ],
   "source": [
    "# calculate proportions of the classes in the dataset\n",
    "class_proportions_train = train_labels.sum(axis=0) / train_labels.shape[0]\n",
    "class_proportions_dev = dev_labels.sum(axis=0) / dev_labels.shape[0]\n",
    "class_proportions_test = test_labels.sum(axis=0) / test_labels.shape[0]\n",
    "class_proportions = pd.DataFrame(columns=['train', 'dev', 'test'], data=np.concatenate((class_proportions_train[..., np.newaxis], class_proportions_dev[..., np.newaxis], class_proportions_test[..., np.newaxis]), axis=1))\n",
    "print(class_proportions)\n"
   ],
   "metadata": {
    "collapsed": false,
    "pycharm": {
     "name": "#%%\n"
    }
   }
  }
 ],
 "metadata": {
  "kernelspec": {
   "display_name": "Python 3",
   "language": "python",
   "name": "python3"
  },
  "language_info": {
   "codemirror_mode": {
    "name": "ipython",
    "version": 2
   },
   "file_extension": ".py",
   "mimetype": "text/x-python",
   "name": "python",
   "nbconvert_exporter": "python",
   "pygments_lexer": "ipython2",
   "version": "2.7.6"
  }
 },
 "nbformat": 4,
 "nbformat_minor": 0
}