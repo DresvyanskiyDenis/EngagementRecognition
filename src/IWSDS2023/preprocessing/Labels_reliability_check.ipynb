{
 "cells": [
  {
   "cell_type": "code",
   "execution_count": 66,
   "metadata": {
    "collapsed": true,
    "pycharm": {
     "name": "#%%\n"
    }
   },
   "outputs": [],
   "source": [
    "from typing import List, Dict\n",
    "\n",
    "import numpy as np\n",
    "import pandas as pd\n",
    "import glob\n",
    "import os\n",
    "import re\n",
    "import matplotlib.pyplot as plt\n",
    "import seaborn as sns\n",
    "from fitter import Fitter, get_common_distributions\n",
    "\n",
    "from src.NoXi.preprocessing.labels_preprocessing import read_noxi_label_file, clean_labels"
   ]
  },
  {
   "cell_type": "markdown",
   "source": [
    "<h3> Functions for reading labels </h3>"
   ],
   "metadata": {
    "collapsed": false,
    "pycharm": {
     "name": "#%% md\n"
    }
   }
  },
  {
   "cell_type": "code",
   "execution_count": 67,
   "outputs": [],
   "source": [
    "# function for loading data\n",
    "def load_annotation_files_by_paths(paths:List[str])->Dict[str, np.ndarray]:\n",
    "    \"\"\"Loads NoXi *annotation~ files using provided list of paths\n",
    "\n",
    "    :param paths: List[str]\n",
    "            Paths to files for laoding\n",
    "    :return: List[np.ndarray]\n",
    "            List of np.ndarrays with labels.\n",
    "    \"\"\"\n",
    "    labels={}\n",
    "    for path in paths:\n",
    "        loaded_labels=read_noxi_label_file(path)\n",
    "        labels[path]=loaded_labels\n",
    "    return labels"
   ],
   "metadata": {
    "collapsed": false,
    "pycharm": {
     "name": "#%%\n"
    }
   }
  },
  {
   "cell_type": "code",
   "execution_count": 68,
   "outputs": [],
   "source": [
    "# separate paths according to the filenames\n",
    "def separate_paths_according_to_filenames(paths:List[str])->Dict[str, List[str]]:\n",
    "    \"\"\"Separates provided paths according to the filenames they contain.\n",
    "\n",
    "    :param paths: List[str]\n",
    "            List of paths\n",
    "    :return: Dict[str, List[str]]\n",
    "            Dictionary of paths in the format Dict[filename->full_path]\n",
    "    \"\"\"\n",
    "    filename_to_paths={}\n",
    "    for path in paths:\n",
    "        # extract the filename\n",
    "        filename=re.search(r\"\\d+_.*(Nottingham|Paris|Augsburg)\", path)\n",
    "        filename=filename.group()\n",
    "        # take all paths with this filename\n",
    "        filename_to_paths[filename]=[item for item in paths if filename in item]\n",
    "    return filename_to_paths"
   ],
   "metadata": {
    "collapsed": false,
    "pycharm": {
     "name": "#%%\n"
    }
   }
  },
  {
   "cell_type": "code",
   "execution_count": 69,
   "outputs": [],
   "source": [
    "path_to_labels=r'E:\\Databases\\NoXi\\NoXi_annotations_all'\n",
    "gold_standard_paths=glob.glob(os.path.join(path_to_labels,'**','**','engagement_novice.annotation~')) + glob.glob(os.path.join(path_to_labels,'**','**','engagement_expert.annotation~'))\n",
    "all_paths=glob.glob(os.path.join(path_to_labels,'**','**','*.annotation~'))\n",
    "all_experts_paths=glob.glob(os.path.join(path_to_labels,'**','**','*expert*.annotation~'))\n",
    "all_novices_paths=glob.glob(os.path.join(path_to_labels,'**','**','*novice*.annotation~'))"
   ],
   "metadata": {
    "collapsed": false,
    "pycharm": {
     "name": "#%%\n"
    }
   }
  },
  {
   "cell_type": "code",
   "execution_count": 70,
   "outputs": [],
   "source": [
    "# load labels files\n",
    "gold_standard_labels=load_annotation_files_by_paths(gold_standard_paths)\n",
    "all_labels=load_annotation_files_by_paths(all_paths)\n",
    "all_experts_labels=load_annotation_files_by_paths(all_experts_paths)\n",
    "all_novices_labels=load_annotation_files_by_paths(all_novices_paths)\n",
    "# separate paths according to the filenames\n",
    "gold_standard_paths_separated=separate_paths_according_to_filenames(gold_standard_paths)\n",
    "all_paths_separated=separate_paths_according_to_filenames(all_paths)\n",
    "all_experts_paths_separated=separate_paths_according_to_filenames(all_experts_paths)\n",
    "all_novices_paths_separated=separate_paths_according_to_filenames(all_novices_paths)"
   ],
   "metadata": {
    "collapsed": false,
    "pycharm": {
     "name": "#%%\n"
    }
   }
  },
  {
   "cell_type": "markdown",
   "source": [
    "<h3> Check the correlaction coefficients of annotations </h3>"
   ],
   "metadata": {
    "collapsed": false,
    "pycharm": {
     "name": "#%% md\n"
    }
   }
  },
  {
   "cell_type": "code",
   "execution_count": 106,
   "outputs": [],
   "source": [
    "expert_files_to_check=[item for item in all_paths_separated[\"084_2016-05-31_Augsburg\"] if \"expert\" in item]\n",
    "novice_files_to_check=[item for item in all_paths_separated[\"084_2016-05-31_Augsburg\"] if \"novice\" in item]"
   ],
   "metadata": {
    "collapsed": false,
    "pycharm": {
     "name": "#%%\n"
    }
   }
  },
  {
   "cell_type": "code",
   "execution_count": 107,
   "outputs": [],
   "source": [
    "# take loaded labels\n",
    "loaded_labels_expert=[all_labels[key][:,0].reshape((-1,1)) for key in expert_files_to_check]\n",
    "loaded_labels_novice=[all_labels[key][:,0].reshape((-1,1)) for key in novice_files_to_check]"
   ],
   "metadata": {
    "collapsed": false,
    "pycharm": {
     "name": "#%%\n"
    }
   }
  },
  {
   "cell_type": "code",
   "execution_count": 108,
   "outputs": [],
   "source": [
    "loaded_labels_expert=pd.DataFrame(data=np.concatenate(loaded_labels_expert, axis=1), columns=[item.split(os.path.sep)[-1].split(\"_\")[-1] for item in expert_files_to_check])\n",
    "loaded_labels_novice=pd.DataFrame(data=np.concatenate(loaded_labels_novice, axis=1), columns=[item.split(os.path.sep)[-1].split(\"_\")[-1] for item in novice_files_to_check])"
   ],
   "metadata": {
    "collapsed": false,
    "pycharm": {
     "name": "#%%\n"
    }
   }
  },
  {
   "cell_type": "code",
   "execution_count": 109,
   "outputs": [
    {
     "data": {
      "text/plain": "                       jorrit.annotation~  marc.annotation~  \\\njorrit.annotation~               1.000000          0.629407   \nmarc.annotation~                 0.629407          1.000000   \nsilvan.annotation~               0.439191          0.478344   \nwladislaw.annotation~            0.027911         -0.043209   \n\n                       silvan.annotation~  wladislaw.annotation~  \njorrit.annotation~               0.439191               0.027911  \nmarc.annotation~                 0.478344              -0.043209  \nsilvan.annotation~               1.000000               0.148129  \nwladislaw.annotation~            0.148129               1.000000  ",
      "text/html": "<div>\n<style scoped>\n    .dataframe tbody tr th:only-of-type {\n        vertical-align: middle;\n    }\n\n    .dataframe tbody tr th {\n        vertical-align: top;\n    }\n\n    .dataframe thead th {\n        text-align: right;\n    }\n</style>\n<table border=\"1\" class=\"dataframe\">\n  <thead>\n    <tr style=\"text-align: right;\">\n      <th></th>\n      <th>jorrit.annotation~</th>\n      <th>marc.annotation~</th>\n      <th>silvan.annotation~</th>\n      <th>wladislaw.annotation~</th>\n    </tr>\n  </thead>\n  <tbody>\n    <tr>\n      <th>jorrit.annotation~</th>\n      <td>1.000000</td>\n      <td>0.629407</td>\n      <td>0.439191</td>\n      <td>0.027911</td>\n    </tr>\n    <tr>\n      <th>marc.annotation~</th>\n      <td>0.629407</td>\n      <td>1.000000</td>\n      <td>0.478344</td>\n      <td>-0.043209</td>\n    </tr>\n    <tr>\n      <th>silvan.annotation~</th>\n      <td>0.439191</td>\n      <td>0.478344</td>\n      <td>1.000000</td>\n      <td>0.148129</td>\n    </tr>\n    <tr>\n      <th>wladislaw.annotation~</th>\n      <td>0.027911</td>\n      <td>-0.043209</td>\n      <td>0.148129</td>\n      <td>1.000000</td>\n    </tr>\n  </tbody>\n</table>\n</div>"
     },
     "execution_count": 109,
     "metadata": {},
     "output_type": "execute_result"
    }
   ],
   "source": [
    "loaded_labels_expert.corr()"
   ],
   "metadata": {
    "collapsed": false,
    "pycharm": {
     "name": "#%%\n"
    }
   }
  },
  {
   "cell_type": "code",
   "execution_count": 110,
   "outputs": [
    {
     "data": {
      "text/plain": "                       jorrit.annotation~  marc.annotation~  \\\njorrit.annotation~               1.000000          0.825991   \nmarc.annotation~                 0.825991          1.000000   \nsilvan.annotation~               0.671234          0.600186   \nwladislaw.annotation~            0.226491          0.273559   \n\n                       silvan.annotation~  wladislaw.annotation~  \njorrit.annotation~               0.671234               0.226491  \nmarc.annotation~                 0.600186               0.273559  \nsilvan.annotation~               1.000000               0.286381  \nwladislaw.annotation~            0.286381               1.000000  ",
      "text/html": "<div>\n<style scoped>\n    .dataframe tbody tr th:only-of-type {\n        vertical-align: middle;\n    }\n\n    .dataframe tbody tr th {\n        vertical-align: top;\n    }\n\n    .dataframe thead th {\n        text-align: right;\n    }\n</style>\n<table border=\"1\" class=\"dataframe\">\n  <thead>\n    <tr style=\"text-align: right;\">\n      <th></th>\n      <th>jorrit.annotation~</th>\n      <th>marc.annotation~</th>\n      <th>silvan.annotation~</th>\n      <th>wladislaw.annotation~</th>\n    </tr>\n  </thead>\n  <tbody>\n    <tr>\n      <th>jorrit.annotation~</th>\n      <td>1.000000</td>\n      <td>0.825991</td>\n      <td>0.671234</td>\n      <td>0.226491</td>\n    </tr>\n    <tr>\n      <th>marc.annotation~</th>\n      <td>0.825991</td>\n      <td>1.000000</td>\n      <td>0.600186</td>\n      <td>0.273559</td>\n    </tr>\n    <tr>\n      <th>silvan.annotation~</th>\n      <td>0.671234</td>\n      <td>0.600186</td>\n      <td>1.000000</td>\n      <td>0.286381</td>\n    </tr>\n    <tr>\n      <th>wladislaw.annotation~</th>\n      <td>0.226491</td>\n      <td>0.273559</td>\n      <td>0.286381</td>\n      <td>1.000000</td>\n    </tr>\n  </tbody>\n</table>\n</div>"
     },
     "execution_count": 110,
     "metadata": {},
     "output_type": "execute_result"
    }
   ],
   "source": [
    "loaded_labels_novice.corr()"
   ],
   "metadata": {
    "collapsed": false,
    "pycharm": {
     "name": "#%%\n"
    }
   }
  }
 ],
 "metadata": {
  "kernelspec": {
   "display_name": "Python 3",
   "language": "python",
   "name": "python3"
  },
  "language_info": {
   "codemirror_mode": {
    "name": "ipython",
    "version": 2
   },
   "file_extension": ".py",
   "mimetype": "text/x-python",
   "name": "python",
   "nbconvert_exporter": "python",
   "pygments_lexer": "ipython2",
   "version": "2.7.6"
  }
 },
 "nbformat": 4,
 "nbformat_minor": 0
}