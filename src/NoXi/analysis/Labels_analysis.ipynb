{
 "cells": [
  {
   "cell_type": "code",
   "execution_count": 2,
   "metadata": {
    "collapsed": true
   },
   "outputs": [],
   "source": [
    "from typing import List, Dict\n",
    "\n",
    "import numpy as np\n",
    "import pandas as pd\n",
    "import glob\n",
    "import os\n",
    "\n",
    "from src.NoXi.preprocessing.labels_preprocessing import read_noxi_label_file"
   ]
  },
  {
   "cell_type": "markdown",
   "source": [
    "<h3>Labels loadings</h3>"
   ],
   "metadata": {
    "collapsed": false,
    "pycharm": {
     "name": "#%% md\n"
    }
   }
  },
  {
   "cell_type": "code",
   "execution_count": null,
   "outputs": [],
   "source": [
    "# engagement_novice(expert).annotation in the directory means that this file is a GOLD STANDARD\n",
    "# engagement_novice(expert)_*name*.annotation in the directory means that this file is annotated by some *name* rater\n",
    "# in the directory, it can be several engagement_novice(expert)_*name*.annotation files, meaning that the videofile was annotated by several raters"
   ],
   "metadata": {
    "collapsed": false,
    "pycharm": {
     "name": "#%%\n"
    }
   }
  },
  {
   "cell_type": "code",
   "execution_count": 5,
   "outputs": [],
   "source": [
    "path_to_labels=r'D:\\Databases\\NoXi\\NoXi_annotations'\n",
    "gold_standard_files=glob.glob(os.path.join(path_to_labels,'**','**','engagement_novice.annotation~')) + glob.glob(os.path.join(path_to_labels,'**','**','engagement_expert.annotation~'))\n",
    "all_files=glob.glob(os.path.join(path_to_labels,'**','**','*.annotation~'))\n"
   ],
   "metadata": {
    "collapsed": false,
    "pycharm": {
     "name": "#%%\n"
    }
   }
  },
  {
   "cell_type": "code",
   "execution_count": null,
   "outputs": [],
   "source": [
    "# function for loading data\n",
    "def load_annotation_files_by_paths(paths:List[str])->Dict[str, np.ndarray]:\n",
    "    \"\"\"Loads NoXi *annotation~ files using provided list of paths\n",
    "\n",
    "    :param paths: List[str]\n",
    "            Paths to files for laoding\n",
    "    :return: List[np.ndarray]\n",
    "            List of np.ndarrays with labels.\n",
    "    \"\"\"\n",
    "    labels={}\n",
    "    for path in paths:\n",
    "        loaded_labels=read_noxi_label_file(path)\n",
    "        labels[path]=loaded_labels\n",
    "    return labels"
   ],
   "metadata": {
    "collapsed": false,
    "pycharm": {
     "name": "#%%\n"
    }
   }
  },
  {
   "cell_type": "code",
   "execution_count": 7,
   "outputs": [
    {
     "data": {
      "text/plain": "['D:\\\\Databases\\\\NoXi\\\\NoXi_annotations\\\\English\\\\026_2016-04-06_Nottingham\\\\engagement_novice.annotation~',\n 'D:\\\\Databases\\\\NoXi\\\\NoXi_annotations\\\\English\\\\027_2016-04-06_Nottingham\\\\engagement_novice.annotation~',\n 'D:\\\\Databases\\\\NoXi\\\\NoXi_annotations\\\\English\\\\028_2016-04-06_Nottingham\\\\engagement_novice.annotation~',\n 'D:\\\\Databases\\\\NoXi\\\\NoXi_annotations\\\\English\\\\030_2016-04-06_Nottingham\\\\engagement_novice.annotation~',\n 'D:\\\\Databases\\\\NoXi\\\\NoXi_annotations\\\\English\\\\034_2016-04-07_Nottingham\\\\engagement_novice.annotation~',\n 'D:\\\\Databases\\\\NoXi\\\\NoXi_annotations\\\\English\\\\052_2016-04-12_Nottingham\\\\engagement_novice.annotation~',\n 'D:\\\\Databases\\\\NoXi\\\\NoXi_annotations\\\\French\\\\001_2016-03-17_Paris\\\\engagement_novice.annotation~',\n 'D:\\\\Databases\\\\NoXi\\\\NoXi_annotations\\\\French\\\\002_2016-03-17_Paris\\\\engagement_novice.annotation~',\n 'D:\\\\Databases\\\\NoXi\\\\NoXi_annotations\\\\French\\\\003_2016-03-17_Paris\\\\engagement_novice.annotation~',\n 'D:\\\\Databases\\\\NoXi\\\\NoXi_annotations\\\\French\\\\004_2016-03-18_Paris\\\\engagement_novice.annotation~',\n 'D:\\\\Databases\\\\NoXi\\\\NoXi_annotations\\\\French\\\\005_2016-03-18_Paris\\\\engagement_novice.annotation~',\n 'D:\\\\Databases\\\\NoXi\\\\NoXi_annotations\\\\French\\\\006_2016-03-18_Paris\\\\engagement_novice.annotation~',\n 'D:\\\\Databases\\\\NoXi\\\\NoXi_annotations\\\\French\\\\007_2016-03-21_Paris\\\\engagement_novice.annotation~',\n 'D:\\\\Databases\\\\NoXi\\\\NoXi_annotations\\\\French\\\\008_2016-03-23_Paris\\\\engagement_novice.annotation~',\n 'D:\\\\Databases\\\\NoXi\\\\NoXi_annotations\\\\French\\\\009_2016-03-25_Paris\\\\engagement_novice.annotation~',\n 'D:\\\\Databases\\\\NoXi\\\\NoXi_annotations\\\\French\\\\010_2016-03-25_Paris\\\\engagement_novice.annotation~',\n 'D:\\\\Databases\\\\NoXi\\\\NoXi_annotations\\\\French\\\\011_2016-03-25_Paris\\\\engagement_novice.annotation~',\n 'D:\\\\Databases\\\\NoXi\\\\NoXi_annotations\\\\French\\\\014_2016-04-01_Paris\\\\engagement_novice.annotation~',\n 'D:\\\\Databases\\\\NoXi\\\\NoXi_annotations\\\\German\\\\068_2016-05-23_Augsburg\\\\engagement_novice.annotation~',\n 'D:\\\\Databases\\\\NoXi\\\\NoXi_annotations\\\\German\\\\076_2016-05-24_Augsburg\\\\engagement_novice.annotation~',\n 'D:\\\\Databases\\\\NoXi\\\\NoXi_annotations\\\\German\\\\077_2016-05-24_Augsburg\\\\engagement_novice.annotation~',\n 'D:\\\\Databases\\\\NoXi\\\\NoXi_annotations\\\\English\\\\026_2016-04-06_Nottingham\\\\engagement_expert.annotation~',\n 'D:\\\\Databases\\\\NoXi\\\\NoXi_annotations\\\\English\\\\027_2016-04-06_Nottingham\\\\engagement_expert.annotation~',\n 'D:\\\\Databases\\\\NoXi\\\\NoXi_annotations\\\\English\\\\028_2016-04-06_Nottingham\\\\engagement_expert.annotation~',\n 'D:\\\\Databases\\\\NoXi\\\\NoXi_annotations\\\\English\\\\030_2016-04-06_Nottingham\\\\engagement_expert.annotation~',\n 'D:\\\\Databases\\\\NoXi\\\\NoXi_annotations\\\\English\\\\034_2016-04-07_Nottingham\\\\engagement_expert.annotation~',\n 'D:\\\\Databases\\\\NoXi\\\\NoXi_annotations\\\\English\\\\039_2016-04-07_Nottingham\\\\engagement_expert.annotation~',\n 'D:\\\\Databases\\\\NoXi\\\\NoXi_annotations\\\\English\\\\052_2016-04-12_Nottingham\\\\engagement_expert.annotation~',\n 'D:\\\\Databases\\\\NoXi\\\\NoXi_annotations\\\\French\\\\001_2016-03-17_Paris\\\\engagement_expert.annotation~',\n 'D:\\\\Databases\\\\NoXi\\\\NoXi_annotations\\\\French\\\\002_2016-03-17_Paris\\\\engagement_expert.annotation~',\n 'D:\\\\Databases\\\\NoXi\\\\NoXi_annotations\\\\French\\\\003_2016-03-17_Paris\\\\engagement_expert.annotation~',\n 'D:\\\\Databases\\\\NoXi\\\\NoXi_annotations\\\\French\\\\004_2016-03-18_Paris\\\\engagement_expert.annotation~',\n 'D:\\\\Databases\\\\NoXi\\\\NoXi_annotations\\\\French\\\\005_2016-03-18_Paris\\\\engagement_expert.annotation~',\n 'D:\\\\Databases\\\\NoXi\\\\NoXi_annotations\\\\French\\\\006_2016-03-18_Paris\\\\engagement_expert.annotation~',\n 'D:\\\\Databases\\\\NoXi\\\\NoXi_annotations\\\\French\\\\007_2016-03-21_Paris\\\\engagement_expert.annotation~',\n 'D:\\\\Databases\\\\NoXi\\\\NoXi_annotations\\\\French\\\\008_2016-03-23_Paris\\\\engagement_expert.annotation~',\n 'D:\\\\Databases\\\\NoXi\\\\NoXi_annotations\\\\French\\\\009_2016-03-25_Paris\\\\engagement_expert.annotation~',\n 'D:\\\\Databases\\\\NoXi\\\\NoXi_annotations\\\\French\\\\010_2016-03-25_Paris\\\\engagement_expert.annotation~',\n 'D:\\\\Databases\\\\NoXi\\\\NoXi_annotations\\\\French\\\\011_2016-03-25_Paris\\\\engagement_expert.annotation~',\n 'D:\\\\Databases\\\\NoXi\\\\NoXi_annotations\\\\French\\\\014_2016-04-01_Paris\\\\engagement_expert.annotation~',\n 'D:\\\\Databases\\\\NoXi\\\\NoXi_annotations\\\\German\\\\076_2016-05-24_Augsburg\\\\engagement_expert.annotation~']"
     },
     "execution_count": 7,
     "metadata": {},
     "output_type": "execute_result"
    }
   ],
   "source": [
    "gold_standard_files"
   ],
   "metadata": {
    "collapsed": false,
    "pycharm": {
     "name": "#%%\n"
    }
   }
  }
 ],
 "metadata": {
  "kernelspec": {
   "display_name": "Python 3",
   "language": "python",
   "name": "python3"
  },
  "language_info": {
   "codemirror_mode": {
    "name": "ipython",
    "version": 2
   },
   "file_extension": ".py",
   "mimetype": "text/x-python",
   "name": "python",
   "nbconvert_exporter": "python",
   "pygments_lexer": "ipython2",
   "version": "2.7.6"
  }
 },
 "nbformat": 4,
 "nbformat_minor": 0
}