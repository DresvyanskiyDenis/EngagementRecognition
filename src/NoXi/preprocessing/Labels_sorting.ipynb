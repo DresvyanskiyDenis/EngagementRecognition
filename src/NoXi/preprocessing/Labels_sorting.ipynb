{
 "cells": [
  {
   "cell_type": "code",
   "execution_count": 1,
   "metadata": {
    "collapsed": true
   },
   "outputs": [],
   "source": [
    "import pandas as pd\n",
    "import numpy as np\n",
    "import os\n",
    "import glob\n",
    "from typing import List\n",
    "from typing import Dict"
   ]
  },
  {
   "cell_type": "markdown",
   "source": [
    "<h1>Sort data on train/dev/test</h1>"
   ],
   "metadata": {
    "collapsed": false,
    "pycharm": {
     "name": "#%% md\n"
    }
   }
  },
  {
   "cell_type": "code",
   "execution_count": 2,
   "outputs": [
    {
     "data": {
      "text/plain": "'\\nTHe annotation files are located in directory path_to_labels. Then, they are pre-sorted on languages - ENglish, French, German, and Others.\\nWithin these directories there are subdirectories with names like \"026_2016-04-06_Nottingham\". However, some of them could contain several annotation files, because the authors have not\\ncalculated \"the gold standard\" of annotations. Therefore, we need to average them depending on the confidence score (every annotation contains the label itsefl and the confidence score, which can be seen as confidence of the rater in the annotation). Moreover, the sorting on train/dev/test within one language should be done. Therefore, the consequence of the actions is the following:\\n1) Identify all video filenames within every language\\n2) Separate randomly some video filenames within every language\\n3) Process separated annotations:\\n    - identify novice_ and expert_ annotations and separate them in different lists\\n    - average the labels according to their confidence\\n4) save processed annotations in given directory path_to_sorted_labels\\n'"
     },
     "execution_count": 2,
     "metadata": {},
     "output_type": "execute_result"
    }
   ],
   "source": [
    "path_to_labels=r\"D:\\Databases\\NoXi\\NoXi_annotations_reliable\"\n",
    "\n",
    "'''\n",
    "THe annotation files are located in directory path_to_labels. Then, they are pre-sorted on languages - ENglish, French, German, and Others.\n",
    "Within these directories there are subdirectories with names like \"026_2016-04-06_Nottingham\". However, some of them could contain several annotation files, because the authors have not\n",
    "calculated \"the gold standard\" of annotations. Therefore, we need to average them depending on the confidence score (every annotation contains the label itsefl and the confidence score, which can be seen as confidence of the rater in the annotation). Moreover, the sorting on train/dev/test within one language should be done. Therefore, the consequence of the actions is the following:\n",
    "1) Identify all video filenames within every language\n",
    "2) Separate randomly some video filenames within every language\n",
    "3) Process separated annotations:\n",
    "    - identify novice_ and expert_ annotations and separate them in different lists\n",
    "    - average the labels according to their confidence\n",
    "4) save processed annotations in given directory path_to_sorted_labels\n",
    "'''"
   ],
   "metadata": {
    "collapsed": false,
    "pycharm": {
     "name": "#%%\n"
    }
   }
  },
  {
   "cell_type": "code",
   "execution_count": 3,
   "outputs": [],
   "source": [
    "# Identifying video filenames within language\n",
    "def get_abs_paths_to_video_filenames(path_to_dir:str)->List[str]:\n",
    "    \"\"\"Returns absolute paths to every video directory in Noxi.\n",
    "\n",
    "    :param path_to_dir: str\n",
    "            path to directory with annotations for videos\n",
    "    :return: List[str]\n",
    "            List of absolute paths to every video directory in Noxi, normally within one language\n",
    "    \"\"\"\n",
    "    video_filenames=glob.glob(os.path.join(path_to_dir,'**'))\n",
    "    return video_filenames\n",
    "\n",
    "def get_abs_paths_to_video_filename_for_every_language(path_to_dir:str)->Dict[str,List[str]]:\n",
    "    \"\"\"Returns absolute paths to every video directory in NoXi taking into account the language.\n",
    "\n",
    "    :param path_to_dir: str\n",
    "            Path to dir with all annotations pre-separated on languages\n",
    "    :return: Dict[str, List[str]]\n",
    "            Dictionary with the structure Dict[language->List_of_abs_paths_to_video_filenames]\n",
    "    \"\"\"\n",
    "    languages=glob.glob(os.path.join(path_to_dir,\"**\"))\n",
    "    abs_paths={}\n",
    "    for language in languages:\n",
    "        video_filenames=get_abs_paths_to_video_filenames(language)\n",
    "        abs_paths[language[language.rfind('\\\\')+1:]]=video_filenames\n",
    "    return abs_paths\n",
    "\n"
   ],
   "metadata": {
    "collapsed": false,
    "pycharm": {
     "name": "#%%\n"
    }
   }
  },
  {
   "cell_type": "code",
   "execution_count": 4,
   "outputs": [],
   "source": [
    "paths_with_lang=get_abs_paths_to_video_filename_for_every_language(path_to_labels)"
   ],
   "metadata": {
    "collapsed": false,
    "pycharm": {
     "name": "#%%\n"
    }
   }
  },
  {
   "cell_type": "code",
   "execution_count": 5,
   "outputs": [
    {
     "data": {
      "text/plain": "{'English': ['D:\\\\Databases\\\\NoXi\\\\NoXi_annotations_reliable\\\\English\\\\026_2016-04-06_Nottingham',\n  'D:\\\\Databases\\\\NoXi\\\\NoXi_annotations_reliable\\\\English\\\\027_2016-04-06_Nottingham',\n  'D:\\\\Databases\\\\NoXi\\\\NoXi_annotations_reliable\\\\English\\\\028_2016-04-06_Nottingham',\n  'D:\\\\Databases\\\\NoXi\\\\NoXi_annotations_reliable\\\\English\\\\029_2016-04-06_Nottingham',\n  'D:\\\\Databases\\\\NoXi\\\\NoXi_annotations_reliable\\\\English\\\\030_2016-04-06_Nottingham',\n  'D:\\\\Databases\\\\NoXi\\\\NoXi_annotations_reliable\\\\English\\\\034_2016-04-07_Nottingham',\n  'D:\\\\Databases\\\\NoXi\\\\NoXi_annotations_reliable\\\\English\\\\052_2016-04-12_Nottingham'],\n 'French': ['D:\\\\Databases\\\\NoXi\\\\NoXi_annotations_reliable\\\\French\\\\001_2016-03-17_Paris',\n  'D:\\\\Databases\\\\NoXi\\\\NoXi_annotations_reliable\\\\French\\\\002_2016-03-17_Paris',\n  'D:\\\\Databases\\\\NoXi\\\\NoXi_annotations_reliable\\\\French\\\\003_2016-03-17_Paris',\n  'D:\\\\Databases\\\\NoXi\\\\NoXi_annotations_reliable\\\\French\\\\004_2016-03-18_Paris',\n  'D:\\\\Databases\\\\NoXi\\\\NoXi_annotations_reliable\\\\French\\\\005_2016-03-18_Paris',\n  'D:\\\\Databases\\\\NoXi\\\\NoXi_annotations_reliable\\\\French\\\\006_2016-03-18_Paris',\n  'D:\\\\Databases\\\\NoXi\\\\NoXi_annotations_reliable\\\\French\\\\007_2016-03-21_Paris',\n  'D:\\\\Databases\\\\NoXi\\\\NoXi_annotations_reliable\\\\French\\\\008_2016-03-23_Paris',\n  'D:\\\\Databases\\\\NoXi\\\\NoXi_annotations_reliable\\\\French\\\\009_2016-03-25_Paris',\n  'D:\\\\Databases\\\\NoXi\\\\NoXi_annotations_reliable\\\\French\\\\010_2016-03-25_Paris',\n  'D:\\\\Databases\\\\NoXi\\\\NoXi_annotations_reliable\\\\French\\\\011_2016-03-25_Paris',\n  'D:\\\\Databases\\\\NoXi\\\\NoXi_annotations_reliable\\\\French\\\\012_2016-03-25_Paris',\n  'D:\\\\Databases\\\\NoXi\\\\NoXi_annotations_reliable\\\\French\\\\013_2016-03-30_Paris',\n  'D:\\\\Databases\\\\NoXi\\\\NoXi_annotations_reliable\\\\French\\\\014_2016-04-01_Paris',\n  'D:\\\\Databases\\\\NoXi\\\\NoXi_annotations_reliable\\\\French\\\\015_2016-04-05_Paris'],\n 'German': ['D:\\\\Databases\\\\NoXi\\\\NoXi_annotations_reliable\\\\German\\\\066_2016-05-23_Augsburg',\n  'D:\\\\Databases\\\\NoXi\\\\NoXi_annotations_reliable\\\\German\\\\070_2016-05-23_Augsburg',\n  'D:\\\\Databases\\\\NoXi\\\\NoXi_annotations_reliable\\\\German\\\\076_2016-05-24_Augsburg',\n  'D:\\\\Databases\\\\NoXi\\\\NoXi_annotations_reliable\\\\German\\\\079_2016-05-24_Augsburg',\n  'D:\\\\Databases\\\\NoXi\\\\NoXi_annotations_reliable\\\\German\\\\080_2016-05-24_Augsburg',\n  'D:\\\\Databases\\\\NoXi\\\\NoXi_annotations_reliable\\\\German\\\\081_2016-05-24_Augsburg',\n  'D:\\\\Databases\\\\NoXi\\\\NoXi_annotations_reliable\\\\German\\\\082_2016-05-25_Augsburg',\n  'D:\\\\Databases\\\\NoXi\\\\NoXi_annotations_reliable\\\\German\\\\083_2016-05-25_Augsburg',\n  'D:\\\\Databases\\\\NoXi\\\\NoXi_annotations_reliable\\\\German\\\\084_2016-05-31_Augsburg']}"
     },
     "execution_count": 5,
     "metadata": {},
     "output_type": "execute_result"
    }
   ],
   "source": [
    "paths_with_lang"
   ],
   "metadata": {
    "collapsed": false,
    "pycharm": {
     "name": "#%%\n"
    }
   }
  },
  {
   "cell_type": "code",
   "execution_count": 6,
   "outputs": [],
   "source": [
    "# separation of train/dev/test\n",
    "def separate_on_train_dev_test(elements:List[str], train_prop:float=0.7, dev_prop:float=0.2, test_prop:float=0.1)->List[List[str]]:\n",
    "    \"\"\"Separates elements within the list on train/dev/test sub samples using provided proportions.\n",
    "\n",
    "    :param elements: List[str]\n",
    "            Elements needed to be separated on train/dev/test\n",
    "    :param train_prop: float\n",
    "            proportion in the forming train subset\n",
    "    :param dev_prop: float\n",
    "            proportion in the forming dev subset\n",
    "    :param test_prop: float\n",
    "            proportion in the forming test subset\n",
    "    :return: List[List[str]]\n",
    "            List of lists. In every sublist the train or dev or test subset will be presented.\n",
    "    \"\"\"\n",
    "    if not np.isclose(train_prop+dev_prop+test_prop, 1.):\n",
    "        raise ValueError(\"The sum of all probabilities should be equal to 1. Your sum is %f\"%(train_prop+dev_prop+test_prop))\n",
    "    elements=np.array(elements)\n",
    "    # generate permutations of indexes to get randomly chosen train/dev/test subsets\n",
    "    permutations=np.random.permutation(elements.shape[0])\n",
    "    # calculate indexes for taking train/dev/test subsets according to the given probabilities\n",
    "    train_prop_idx=int(np.round(permutations.shape[0]*train_prop))\n",
    "    dev_prop_idx=int(np.round(permutations.shape[0]*dev_prop))+train_prop_idx\n",
    "\n",
    "    print('Elements shape:%i, train_idx:%i, dev_idx:%i'%(elements.shape[0], train_prop_idx, dev_prop_idx))\n",
    "\n",
    "    result_list=[]\n",
    "    # train\n",
    "    needed_idx_train=permutations[:train_prop_idx]\n",
    "    result_list.append(elements[needed_idx_train].tolist())\n",
    "    # dev\n",
    "    needed_idx_dev=permutations[train_prop_idx:dev_prop_idx]\n",
    "    result_list.append(elements[needed_idx_dev].tolist())\n",
    "    # test\n",
    "    needed_idx_test=permutations[dev_prop_idx:]\n",
    "    result_list.append(elements[needed_idx_test].tolist())\n",
    "\n",
    "    return result_list"
   ],
   "metadata": {
    "collapsed": false,
    "pycharm": {
     "name": "#%%\n"
    }
   }
  },
  {
   "cell_type": "code",
   "execution_count": 7,
   "outputs": [
    {
     "name": "stdout",
     "output_type": "stream",
     "text": [
      "Elements shape:7, train_idx:5, dev_idx:6\n"
     ]
    },
    {
     "data": {
      "text/plain": "[['D:\\\\Databases\\\\NoXi\\\\NoXi_annotations_reliable\\\\English\\\\029_2016-04-06_Nottingham',\n  'D:\\\\Databases\\\\NoXi\\\\NoXi_annotations_reliable\\\\English\\\\034_2016-04-07_Nottingham',\n  'D:\\\\Databases\\\\NoXi\\\\NoXi_annotations_reliable\\\\English\\\\026_2016-04-06_Nottingham',\n  'D:\\\\Databases\\\\NoXi\\\\NoXi_annotations_reliable\\\\English\\\\052_2016-04-12_Nottingham',\n  'D:\\\\Databases\\\\NoXi\\\\NoXi_annotations_reliable\\\\English\\\\030_2016-04-06_Nottingham'],\n ['D:\\\\Databases\\\\NoXi\\\\NoXi_annotations_reliable\\\\English\\\\027_2016-04-06_Nottingham'],\n ['D:\\\\Databases\\\\NoXi\\\\NoXi_annotations_reliable\\\\English\\\\028_2016-04-06_Nottingham']]"
     },
     "execution_count": 7,
     "metadata": {},
     "output_type": "execute_result"
    }
   ],
   "source": [
    "separate_on_train_dev_test(paths_with_lang['English'])"
   ],
   "metadata": {
    "collapsed": false,
    "pycharm": {
     "name": "#%%\n"
    }
   }
  },
  {
   "cell_type": "code",
   "execution_count": 8,
   "outputs": [],
   "source": [
    "from src.NoXi.preprocessing.labels_preprocessing import load_all_labels_by_paths, clean_labels, \\\n",
    "    average_from_several_labels\n",
    "\n",
    "\n",
    "# separate all annotations on 2 categories: novice and expert\n",
    "def separate_annotation_filenames_on_novice_expert(path_to_dir:str)->Dict[str,List[str]]:\n",
    "    \"\"\"Separates the filenames in the provided directory on novice and expert categories\n",
    "\n",
    "    :param path_to_dir: str\n",
    "            path to dir, where annotations shoud be separated\n",
    "    :return: Dict[str,List[str]]\n",
    "            Dict with the structure Dict[novice/exert->filenames]\n",
    "    \"\"\"\n",
    "    novice_filenames=glob.glob(os.path.join(path_to_dir,'*novice*.annotation~'))\n",
    "    expert_filenames=glob.glob(os.path.join(path_to_dir,'*expert*.annotation~'))\n",
    "    separated_annotations={}\n",
    "    separated_annotations['novice']=novice_filenames\n",
    "    separated_annotations['expert']=expert_filenames\n",
    "    return separated_annotations\n",
    "\n",
    "# labels averaging withing one entity (novice or expert)\n",
    "def get_averaged_labels_for_one_entity(list_of_filenames_with_abs_paths:List[str])->np.ndarray:\n",
    "    \"\"\"Calculates and returns averaged labels according to the provided labels and confidence levels in the files\n",
    "\n",
    "    :param list_of_filenames_with_abs_paths: List[str]\n",
    "            absolute paths to filenames with labels\n",
    "    :return: np.ndarray\n",
    "            averaged labels\n",
    "    \"\"\"\n",
    "    # load all labels\n",
    "    labels=load_all_labels_by_paths(list_of_filenames_with_abs_paths) # output type is Dict[str, pd.DataFrame]\n",
    "    # clean every label file from NaN\n",
    "    for key in labels.keys():\n",
    "        labels[key]=clean_labels(labels[key])\n",
    "    # cut all to the minimum length (in case the lengths of annotation sequences are different)\n",
    "    lengths=np.array([len(item) for key, item in labels.items()])\n",
    "    min_length=int(np.min(lengths))\n",
    "    for key in labels.keys():\n",
    "        labels[key]=labels[key][:min_length]\n",
    "    # average labels\n",
    "    averaged_labels=average_from_several_labels(list(labels.values()))\n",
    "    return averaged_labels"
   ],
   "metadata": {
    "collapsed": false,
    "pycharm": {
     "name": "#%%\n"
    }
   }
  },
  {
   "cell_type": "code",
   "execution_count": 8,
   "outputs": [],
   "source": [],
   "metadata": {
    "collapsed": false,
    "pycharm": {
     "name": "#%%\n"
    }
   }
  },
  {
   "cell_type": "code",
   "execution_count": 8,
   "outputs": [],
   "source": [],
   "metadata": {
    "collapsed": false,
    "pycharm": {
     "name": "#%%\n"
    }
   }
  },
  {
   "cell_type": "markdown",
   "source": [
    "<h1> General function, which encompasses all previous ones</h1>"
   ],
   "metadata": {
    "collapsed": false,
    "pycharm": {
     "name": "#%% md\n"
    }
   }
  },
  {
   "cell_type": "code",
   "execution_count": 9,
   "outputs": [],
   "source": [
    "from typing import Tuple\n",
    "\n",
    "'''\n",
    "THe annotation files are located in directory path_to_labels. Then, they are pre-sorted on languages - ENglish, French, German, and Others.\n",
    "Within these directories there are subdirectories with names like \"026_2016-04-06_Nottingham\". However, some of them could contain several annotation files, because the authors have not\n",
    "calculated \"the gold standard\" of annotations. Therefore, we need to average them depending on the confidence score (every annotation contains the label itsefl and the confidence score, which can be seen as confidence of the rater in the annotation). Moreover, the sorting on train/dev/test within one language should be done. Therefore, the consequence of the actions is the following:\n",
    "1) Identify all video filenames within every language\n",
    "2) Separate randomly some video filenames within every language\n",
    "3) Process separated annotations:\n",
    "    - identify novice_ and expert_ annotations and separate them in different lists\n",
    "    - average the labels according to their confidence\n",
    "4) save processed annotations in given directory path_to_sorted_labels\n",
    "'''\n",
    "def general_function(path_to_labels:str, output_path:str, train_prop:float, dev_prop:float, test_prop:float)->None:\n",
    "    paths_to_video_files_with_languages=get_abs_paths_to_video_filename_for_every_language(path_to_labels) # Dict[language->List[paths]]\n",
    "    # create output path if does not exist\n",
    "    if not os.path.exists(output_path):\n",
    "        os.makedirs(output_path, exist_ok=True)\n",
    "    # go through all languages\n",
    "    for language in paths_to_video_files_with_languages.keys():\n",
    "        # create directory for language if does not exist\n",
    "        if not os.path.exists(os.path.join(output_path, language)):\n",
    "            os.makedirs(os.path.join(output_path, language), exist_ok=True)\n",
    "        # get video filenames for concrete language\n",
    "        video_filenames=paths_to_video_files_with_languages[language]\n",
    "        # divide videos on train/dev/test\n",
    "        train_dev_test_filenames=separate_on_train_dev_test(video_filenames, train_prop, dev_prop, test_prop)\n",
    "\n",
    "        # TRAIN\n",
    "        # create train directory in output_path if does not exist\n",
    "        if not os.path.exists(os.path.join(output_path, language, 'train')):\n",
    "            os.makedirs(os.path.join(output_path, language, 'train'), exist_ok=True)\n",
    "        # save all train samples\n",
    "        separate_average_and_save_all_labels_in_subset_of_videofiles(set_of_video_filenames=train_dev_test_filenames[0],\n",
    "                                                                     output_path=os.path.join(output_path, language, \"train\"))\n",
    "        print(\"TRAIN ENDED\")\n",
    "        # DEV\n",
    "        # create dev directory in output_path if does not exist\n",
    "        if not os.path.exists(os.path.join(output_path, language, 'dev')):\n",
    "            os.makedirs(os.path.join(output_path, language, 'dev'), exist_ok=True)\n",
    "        # save all dev samples\n",
    "        separate_average_and_save_all_labels_in_subset_of_videofiles(set_of_video_filenames=train_dev_test_filenames[1],\n",
    "                                                                     output_path=os.path.join(output_path, language, \"dev\"))\n",
    "        print(\"DEV ENDED\")\n",
    "        # TEST\n",
    "        # create dev directory in output_path if does not exist\n",
    "        if not os.path.exists(os.path.join(output_path, language, 'test')):\n",
    "            os.makedirs(os.path.join(output_path, language, 'test'), exist_ok=True)\n",
    "        # save all dev samples\n",
    "        separate_average_and_save_all_labels_in_subset_of_videofiles(set_of_video_filenames=train_dev_test_filenames[2],\n",
    "                                                                     output_path=os.path.join(output_path, language, \"test\"))\n",
    "        print(\"TEST ENDED\")\n",
    "\n",
    "\n",
    "\n",
    "\n",
    "def save_annotation_in_txt_file(path:str, filename:str, data:np.ndarray)->None:\n",
    "    if not os.path.exists(path):\n",
    "        os.makedirs(path, exist_ok=True)\n",
    "    full_path=os.path.join(path, filename+\".txt\")\n",
    "    np.savetxt(full_path, data, fmt=\"%.6f\" )\n",
    "\n",
    "def separate_average_and_save_all_labels_in_subset_of_videofiles(set_of_video_filenames:List[str], output_path:str)->None:\n",
    "    # go through all subset\n",
    "    for video_filename in set_of_video_filenames:\n",
    "        print(\"%s in process...\"%video_filename)\n",
    "        separated_novice_expert=separate_annotation_filenames_on_novice_expert(video_filename)\n",
    "        averaged_labels_novice=get_averaged_labels_for_one_entity(separated_novice_expert['novice'])\n",
    "        averaged_labels_expert=get_averaged_labels_for_one_entity(separated_novice_expert['expert'])\n",
    "        # save obtained labels\n",
    "        only_video_filename=video_filename[video_filename.rfind(\"\\\\\")+1:]\n",
    "        # novice\n",
    "        full_path_novice=os.path.join(output_path, only_video_filename)\n",
    "        save_annotation_in_txt_file(full_path_novice, \"annotation_novice\", averaged_labels_novice)\n",
    "        # expert\n",
    "        full_path_expert=os.path.join(output_path, only_video_filename)\n",
    "        save_annotation_in_txt_file(full_path_expert, \"annotation_expert\", averaged_labels_expert)\n",
    "\n",
    "\n",
    "\n"
   ],
   "metadata": {
    "collapsed": false,
    "pycharm": {
     "name": "#%%\n"
    }
   }
  },
  {
   "cell_type": "code",
   "execution_count": 11,
   "outputs": [
    {
     "name": "stdout",
     "output_type": "stream",
     "text": [
      "Elements shape:7, train_idx:5, dev_idx:6\n",
      "D:\\Databases\\NoXi\\NoXi_annotations_reliable\\English\\027_2016-04-06_Nottingham in process...\n",
      "HELLO, labels_shape: (16750, 2)\n",
      "Do you have nans after fillna method? Answer: False\n",
      "HELLO, labels_shape: (16750, 2)\n",
      "Do you have nans after fillna method? Answer: False\n",
      "D:\\Databases\\NoXi\\NoXi_annotations_reliable\\English\\034_2016-04-07_Nottingham in process...\n",
      "HELLO, labels_shape: (16469, 2)\n",
      "Do you have nans after fillna method? Answer: False\n",
      "HELLO, labels_shape: (16469, 2)\n",
      "Do you have nans after fillna method? Answer: False\n",
      "D:\\Databases\\NoXi\\NoXi_annotations_reliable\\English\\026_2016-04-06_Nottingham in process...\n",
      "HELLO, labels_shape: (18051, 2)\n",
      "Do you have nans after fillna method? Answer: False\n",
      "HELLO, labels_shape: (18051, 2)\n",
      "Do you have nans after fillna method? Answer: False\n",
      "D:\\Databases\\NoXi\\NoXi_annotations_reliable\\English\\029_2016-04-06_Nottingham in process...\n",
      "HELLO, labels_shape: (20568, 2)\n",
      "Do you have nans after fillna method? Answer: False\n",
      "HELLO, labels_shape: (20568, 2)\n",
      "Do you have nans after fillna method? Answer: False\n",
      "HELLO, labels_shape: (20568, 2)\n",
      "Do you have nans after fillna method? Answer: False\n",
      "HELLO, labels_shape: (20568, 2)\n",
      "Do you have nans after fillna method? Answer: False\n",
      "HELLO, labels_shape: (20568, 2)\n",
      "Do you have nans after fillna method? Answer: False\n",
      "D:\\Databases\\NoXi\\NoXi_annotations_reliable\\English\\030_2016-04-06_Nottingham in process...\n",
      "HELLO, labels_shape: (16322, 2)\n",
      "Do you have nans after fillna method? Answer: False\n",
      "HELLO, labels_shape: (16322, 2)\n",
      "Do you have nans after fillna method? Answer: False\n",
      "TRAIN ENDED\n",
      "D:\\Databases\\NoXi\\NoXi_annotations_reliable\\English\\052_2016-04-12_Nottingham in process...\n",
      "HELLO, labels_shape: (14861, 2)\n",
      "Do you have nans after fillna method? Answer: False\n",
      "HELLO, labels_shape: (14861, 2)\n",
      "Do you have nans after fillna method? Answer: False\n",
      "DEV ENDED\n",
      "D:\\Databases\\NoXi\\NoXi_annotations_reliable\\English\\028_2016-04-06_Nottingham in process...\n",
      "HELLO, labels_shape: (29176, 2)\n",
      "Do you have nans after fillna method? Answer: False\n",
      "HELLO, labels_shape: (29176, 2)\n",
      "Do you have nans after fillna method? Answer: False\n",
      "TEST ENDED\n",
      "Elements shape:15, train_idx:10, dev_idx:13\n",
      "D:\\Databases\\NoXi\\NoXi_annotations_reliable\\French\\010_2016-03-25_Paris in process...\n",
      "HELLO, labels_shape: (35374, 2)\n",
      "Do you have nans after fillna method? Answer: False\n",
      "HELLO, labels_shape: (35374, 2)\n",
      "Do you have nans after fillna method? Answer: False\n",
      "D:\\Databases\\NoXi\\NoXi_annotations_reliable\\French\\014_2016-04-01_Paris in process...\n",
      "HELLO, labels_shape: (26726, 2)\n",
      "Do you have nans after fillna method? Answer: False\n",
      "HELLO, labels_shape: (26726, 2)\n",
      "Do you have nans after fillna method? Answer: False\n",
      "D:\\Databases\\NoXi\\NoXi_annotations_reliable\\French\\005_2016-03-18_Paris in process...\n",
      "HELLO, labels_shape: (27392, 2)\n",
      "Do you have nans after fillna method? Answer: False\n",
      "HELLO, labels_shape: (27392, 2)\n",
      "Do you have nans after fillna method? Answer: False\n",
      "D:\\Databases\\NoXi\\NoXi_annotations_reliable\\French\\009_2016-03-25_Paris in process...\n",
      "HELLO, labels_shape: (22609, 2)\n",
      "Do you have nans after fillna method? Answer: False\n",
      "HELLO, labels_shape: (22609, 2)\n",
      "Do you have nans after fillna method? Answer: False\n",
      "D:\\Databases\\NoXi\\NoXi_annotations_reliable\\French\\011_2016-03-25_Paris in process...\n",
      "HELLO, labels_shape: (36007, 2)\n",
      "Do you have nans after fillna method? Answer: False\n",
      "HELLO, labels_shape: (36007, 2)\n",
      "Do you have nans after fillna method? Answer: False\n",
      "D:\\Databases\\NoXi\\NoXi_annotations_reliable\\French\\004_2016-03-18_Paris in process...\n",
      "HELLO, labels_shape: (29412, 2)\n",
      "Do you have nans after fillna method? Answer: False\n",
      "HELLO, labels_shape: (29412, 2)\n",
      "Do you have nans after fillna method? Answer: False\n",
      "D:\\Databases\\NoXi\\NoXi_annotations_reliable\\French\\006_2016-03-18_Paris in process...\n",
      "HELLO, labels_shape: (38600, 2)\n",
      "Do you have nans after fillna method? Answer: False\n",
      "HELLO, labels_shape: (38600, 2)\n",
      "Do you have nans after fillna method? Answer: False\n",
      "D:\\Databases\\NoXi\\NoXi_annotations_reliable\\French\\012_2016-03-25_Paris in process...\n",
      "HELLO, labels_shape: (29367, 2)\n",
      "Do you have nans after fillna method? Answer: False\n",
      "HELLO, labels_shape: (29367, 2)\n",
      "Do you have nans after fillna method? Answer: False\n",
      "HELLO, labels_shape: (29367, 2)\n",
      "Do you have nans after fillna method? Answer: False\n",
      "HELLO, labels_shape: (29367, 2)\n",
      "Do you have nans after fillna method? Answer: False\n",
      "D:\\Databases\\NoXi\\NoXi_annotations_reliable\\French\\013_2016-03-30_Paris in process...\n",
      "HELLO, labels_shape: (33874, 2)\n",
      "Do you have nans after fillna method? Answer: False\n",
      "HELLO, labels_shape: (33874, 2)\n",
      "Do you have nans after fillna method? Answer: False\n",
      "HELLO, labels_shape: (33874, 2)\n",
      "Do you have nans after fillna method? Answer: False\n",
      "HELLO, labels_shape: (33874, 2)\n",
      "Do you have nans after fillna method? Answer: False\n",
      "D:\\Databases\\NoXi\\NoXi_annotations_reliable\\French\\001_2016-03-17_Paris in process...\n",
      "HELLO, labels_shape: (26645, 2)\n",
      "Do you have nans after fillna method? Answer: False\n",
      "HELLO, labels_shape: (26645, 2)\n",
      "Do you have nans after fillna method? Answer: False\n",
      "TRAIN ENDED\n",
      "D:\\Databases\\NoXi\\NoXi_annotations_reliable\\French\\002_2016-03-17_Paris in process...\n",
      "HELLO, labels_shape: (48582, 2)\n",
      "Do you have nans after fillna method? Answer: False\n",
      "HELLO, labels_shape: (48582, 2)\n",
      "Do you have nans after fillna method? Answer: False\n",
      "D:\\Databases\\NoXi\\NoXi_annotations_reliable\\French\\008_2016-03-23_Paris in process...\n",
      "HELLO, labels_shape: (24952, 2)\n",
      "Do you have nans after fillna method? Answer: False\n",
      "HELLO, labels_shape: (24952, 2)\n",
      "Do you have nans after fillna method? Answer: False\n",
      "D:\\Databases\\NoXi\\NoXi_annotations_reliable\\French\\007_2016-03-21_Paris in process...\n",
      "HELLO, labels_shape: (54324, 2)\n",
      "Do you have nans after fillna method? Answer: False\n",
      "HELLO, labels_shape: (54324, 2)\n",
      "Do you have nans after fillna method? Answer: False\n",
      "DEV ENDED\n",
      "D:\\Databases\\NoXi\\NoXi_annotations_reliable\\French\\015_2016-04-05_Paris in process...\n",
      "HELLO, labels_shape: (32026, 2)\n",
      "Do you have nans after fillna method? Answer: False\n",
      "HELLO, labels_shape: (32026, 2)\n",
      "Do you have nans after fillna method? Answer: False\n",
      "HELLO, labels_shape: (32026, 2)\n",
      "Do you have nans after fillna method? Answer: False\n",
      "HELLO, labels_shape: (32026, 2)\n",
      "Do you have nans after fillna method? Answer: False\n",
      "D:\\Databases\\NoXi\\NoXi_annotations_reliable\\French\\003_2016-03-17_Paris in process...\n",
      "HELLO, labels_shape: (19039, 2)\n",
      "Do you have nans after fillna method? Answer: False\n",
      "HELLO, labels_shape: (19039, 2)\n",
      "Do you have nans after fillna method? Answer: False\n",
      "TEST ENDED\n",
      "Elements shape:9, train_idx:6, dev_idx:8\n",
      "D:\\Databases\\NoXi\\NoXi_annotations_reliable\\German\\080_2016-05-24_Augsburg in process...\n",
      "HELLO, labels_shape: (22701, 2)\n",
      "Do you have nans after fillna method? Answer: False\n",
      "HELLO, labels_shape: (22701, 2)\n",
      "Do you have nans after fillna method? Answer: False\n",
      "HELLO, labels_shape: (22701, 2)\n",
      "Do you have nans after fillna method? Answer: False\n",
      "HELLO, labels_shape: (22701, 2)\n",
      "Do you have nans after fillna method? Answer: False\n",
      "HELLO, labels_shape: (22701, 2)\n",
      "Do you have nans after fillna method? Answer: False\n",
      "HELLO, labels_shape: (22701, 2)\n",
      "Do you have nans after fillna method? Answer: False\n",
      "D:\\Databases\\NoXi\\NoXi_annotations_reliable\\German\\081_2016-05-24_Augsburg in process...\n",
      "HELLO, labels_shape: (29175, 2)\n",
      "Do you have nans after fillna method? Answer: False\n",
      "HELLO, labels_shape: (29175, 2)\n",
      "Do you have nans after fillna method? Answer: False\n",
      "HELLO, labels_shape: (29175, 2)\n",
      "Do you have nans after fillna method? Answer: False\n",
      "HELLO, labels_shape: (29175, 2)\n",
      "Do you have nans after fillna method? Answer: False\n",
      "HELLO, labels_shape: (29175, 2)\n",
      "Do you have nans after fillna method? Answer: False\n",
      "HELLO, labels_shape: (29175, 2)\n",
      "Do you have nans after fillna method? Answer: False\n",
      "D:\\Databases\\NoXi\\NoXi_annotations_reliable\\German\\070_2016-05-23_Augsburg in process...\n",
      "HELLO, labels_shape: (26097, 2)\n",
      "Do you have nans after fillna method? Answer: False\n",
      "HELLO, labels_shape: (26097, 2)\n",
      "Do you have nans after fillna method? Answer: False\n",
      "HELLO, labels_shape: (26097, 2)\n",
      "Do you have nans after fillna method? Answer: False\n",
      "HELLO, labels_shape: (26097, 2)\n",
      "Do you have nans after fillna method? Answer: False\n",
      "D:\\Databases\\NoXi\\NoXi_annotations_reliable\\German\\076_2016-05-24_Augsburg in process...\n",
      "HELLO, labels_shape: (12535, 2)\n",
      "Do you have nans after fillna method? Answer: False\n",
      "HELLO, labels_shape: (12535, 2)\n",
      "Do you have nans after fillna method? Answer: False\n",
      "D:\\Databases\\NoXi\\NoXi_annotations_reliable\\German\\082_2016-05-25_Augsburg in process...\n",
      "HELLO, labels_shape: (10519, 2)\n",
      "Do you have nans after fillna method? Answer: False\n",
      "HELLO, labels_shape: (10519, 2)\n",
      "Do you have nans after fillna method? Answer: False\n",
      "HELLO, labels_shape: (10519, 2)\n",
      "Do you have nans after fillna method? Answer: False\n",
      "HELLO, labels_shape: (10519, 2)\n",
      "Do you have nans after fillna method? Answer: False\n",
      "HELLO, labels_shape: (10519, 2)\n",
      "Do you have nans after fillna method? Answer: False\n",
      "HELLO, labels_shape: (10519, 2)\n",
      "Do you have nans after fillna method? Answer: False\n",
      "D:\\Databases\\NoXi\\NoXi_annotations_reliable\\German\\083_2016-05-25_Augsburg in process...\n",
      "HELLO, labels_shape: (15546, 2)\n",
      "Do you have nans after fillna method? Answer: False\n",
      "HELLO, labels_shape: (15546, 2)\n",
      "Do you have nans after fillna method? Answer: False\n",
      "HELLO, labels_shape: (15546, 2)\n",
      "Do you have nans after fillna method? Answer: False\n",
      "HELLO, labels_shape: (15546, 2)\n",
      "Do you have nans after fillna method? Answer: False\n",
      "HELLO, labels_shape: (15546, 2)\n",
      "Do you have nans after fillna method? Answer: False\n",
      "TRAIN ENDED\n",
      "D:\\Databases\\NoXi\\NoXi_annotations_reliable\\German\\084_2016-05-31_Augsburg in process...\n",
      "HELLO, labels_shape: (43755, 2)\n",
      "Do you have nans after fillna method? Answer: False\n",
      "HELLO, labels_shape: (43755, 2)\n",
      "Do you have nans after fillna method? Answer: False\n",
      "HELLO, labels_shape: (43755, 2)\n",
      "Do you have nans after fillna method? Answer: False\n",
      "HELLO, labels_shape: (43755, 2)\n",
      "Do you have nans after fillna method? Answer: False\n",
      "D:\\Databases\\NoXi\\NoXi_annotations_reliable\\German\\079_2016-05-24_Augsburg in process...\n",
      "HELLO, labels_shape: (22502, 2)\n",
      "Do you have nans after fillna method? Answer: False\n",
      "HELLO, labels_shape: (22502, 2)\n",
      "Do you have nans after fillna method? Answer: False\n",
      "HELLO, labels_shape: (22502, 2)\n",
      "Do you have nans after fillna method? Answer: False\n",
      "HELLO, labels_shape: (22502, 2)\n",
      "Do you have nans after fillna method? Answer: False\n",
      "DEV ENDED\n",
      "D:\\Databases\\NoXi\\NoXi_annotations_reliable\\German\\066_2016-05-23_Augsburg in process...\n",
      "HELLO, labels_shape: (28513, 2)\n",
      "Do you have nans after fillna method? Answer: False\n",
      "HELLO, labels_shape: (28513, 2)\n",
      "Do you have nans after fillna method? Answer: False\n",
      "HELLO, labels_shape: (28513, 2)\n",
      "Do you have nans after fillna method? Answer: False\n",
      "HELLO, labels_shape: (28513, 2)\n",
      "Do you have nans after fillna method? Answer: False\n",
      "HELLO, labels_shape: (28513, 2)\n",
      "Do you have nans after fillna method? Answer: False\n",
      "HELLO, labels_shape: (28513, 2)\n",
      "Do you have nans after fillna method? Answer: False\n",
      "HELLO, labels_shape: (28513, 2)\n",
      "Do you have nans after fillna method? Answer: False\n",
      "HELLO, labels_shape: (28513, 2)\n",
      "Do you have nans after fillna method? Answer: False\n",
      "HELLO, labels_shape: (28513, 2)\n",
      "Do you have nans after fillna method? Answer: False\n",
      "TEST ENDED\n"
     ]
    }
   ],
   "source": [
    "path_to_labels=r\"D:\\Databases\\NoXi\\NoXi_annotations_reliable\"\n",
    "output_path=r\"D:\\Databases\\NoXi\\NoXi_annotations_reliable_gold_standard_regression\"\n",
    "train_prop=0.7\n",
    "dev_prop=0.2\n",
    "test_prop=0.1\n",
    "\n",
    "\n",
    "general_function(path_to_labels=path_to_labels, output_path=output_path, train_prop=train_prop, dev_prop=dev_prop, test_prop=test_prop)"
   ],
   "metadata": {
    "collapsed": false,
    "pycharm": {
     "name": "#%%\n"
    }
   }
  },
  {
   "cell_type": "code",
   "execution_count": 15,
   "outputs": [],
   "source": [],
   "metadata": {
    "collapsed": false,
    "pycharm": {
     "name": "#%%\n"
    }
   }
  }
 ],
 "metadata": {
  "kernelspec": {
   "display_name": "Python 3",
   "language": "python",
   "name": "python3"
  },
  "language_info": {
   "codemirror_mode": {
    "name": "ipython",
    "version": 2
   },
   "file_extension": ".py",
   "mimetype": "text/x-python",
   "name": "python",
   "nbconvert_exporter": "python",
   "pygments_lexer": "ipython2",
   "version": "2.7.6"
  }
 },
 "nbformat": 4,
 "nbformat_minor": 0
}