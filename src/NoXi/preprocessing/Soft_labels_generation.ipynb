{
 "cells": [
  {
   "cell_type": "code",
   "execution_count": 24,
   "outputs": [],
   "source": [
    "import os\n",
    "from typing import List, Tuple\n",
    "\n",
    "import numpy as np\n",
    "import pandas as pd\n",
    "import glob\n",
    "\n",
    "from src.NoXi.preprocessing.labels_preprocessing import load_all_labels_by_paths"
   ],
   "metadata": {
    "collapsed": false,
    "pycharm": {
     "name": "#%%\n"
    }
   }
  },
  {
   "cell_type": "code",
   "metadata": {
    "collapsed": true,
    "pycharm": {
     "name": "#%%\n"
    }
   },
   "source": [
    "# load labels\n",
    "path_to_labels=r'D:\\Databases\\NoXi\\NoXi_annotations_reliable_gold_standard_regression_with_additional_train_data'\n",
    "output_path=r'D:\\Databases\\NoXi\\NoXi_annotations_reliable_gold_standard_classification_with_additional_train_data'\n",
    "\n",
    "all_label_paths=glob.glob(os.path.join(path_to_labels,'**','**','**','annotation*.txt'))\n",
    "all_labels=load_all_labels_by_paths(all_label_paths)"
   ],
   "execution_count": 25,
   "outputs": []
  },
  {
   "cell_type": "code",
   "execution_count": 26,
   "outputs": [
    {
     "data": {
      "text/plain": "array([0.482118, 0.484025, 0.48365 , ..., 0.670662, 0.649756, 0.641281],\n      dtype=float32)"
     },
     "execution_count": 26,
     "metadata": {},
     "output_type": "execute_result"
    }
   ],
   "source": [
    "list(all_labels.items())[3][1]"
   ],
   "metadata": {
    "collapsed": false,
    "pycharm": {
     "name": "#%%\n"
    }
   }
  },
  {
   "cell_type": "code",
   "execution_count": 27,
   "outputs": [
    {
     "data": {
      "text/plain": "['D:\\\\Databases\\\\NoXi\\\\NoXi_annotations_reliable_gold_standard_regression_with_additional_train_data\\\\English\\\\dev\\\\034_2016-04-07_Nottingham\\\\annotation_expert.txt',\n 'D:\\\\Databases\\\\NoXi\\\\NoXi_annotations_reliable_gold_standard_regression_with_additional_train_data\\\\English\\\\dev\\\\034_2016-04-07_Nottingham\\\\annotation_novice.txt',\n 'D:\\\\Databases\\\\NoXi\\\\NoXi_annotations_reliable_gold_standard_regression_with_additional_train_data\\\\English\\\\test\\\\028_2016-04-06_Nottingham\\\\annotation_expert.txt',\n 'D:\\\\Databases\\\\NoXi\\\\NoXi_annotations_reliable_gold_standard_regression_with_additional_train_data\\\\English\\\\test\\\\028_2016-04-06_Nottingham\\\\annotation_novice.txt',\n 'D:\\\\Databases\\\\NoXi\\\\NoXi_annotations_reliable_gold_standard_regression_with_additional_train_data\\\\English\\\\train\\\\026_2016-04-06_Nottingham\\\\annotation_expert.txt',\n 'D:\\\\Databases\\\\NoXi\\\\NoXi_annotations_reliable_gold_standard_regression_with_additional_train_data\\\\English\\\\train\\\\026_2016-04-06_Nottingham\\\\annotation_novice.txt',\n 'D:\\\\Databases\\\\NoXi\\\\NoXi_annotations_reliable_gold_standard_regression_with_additional_train_data\\\\English\\\\train\\\\027_2016-04-06_Nottingham\\\\annotation_expert.txt',\n 'D:\\\\Databases\\\\NoXi\\\\NoXi_annotations_reliable_gold_standard_regression_with_additional_train_data\\\\English\\\\train\\\\027_2016-04-06_Nottingham\\\\annotation_novice.txt',\n 'D:\\\\Databases\\\\NoXi\\\\NoXi_annotations_reliable_gold_standard_regression_with_additional_train_data\\\\English\\\\train\\\\029_2016-04-06_Nottingham\\\\annotation_expert.txt',\n 'D:\\\\Databases\\\\NoXi\\\\NoXi_annotations_reliable_gold_standard_regression_with_additional_train_data\\\\English\\\\train\\\\029_2016-04-06_Nottingham\\\\annotation_novice.txt',\n 'D:\\\\Databases\\\\NoXi\\\\NoXi_annotations_reliable_gold_standard_regression_with_additional_train_data\\\\English\\\\train\\\\030_2016-04-06_Nottingham\\\\annotation_expert.txt',\n 'D:\\\\Databases\\\\NoXi\\\\NoXi_annotations_reliable_gold_standard_regression_with_additional_train_data\\\\English\\\\train\\\\030_2016-04-06_Nottingham\\\\annotation_novice.txt',\n 'D:\\\\Databases\\\\NoXi\\\\NoXi_annotations_reliable_gold_standard_regression_with_additional_train_data\\\\English\\\\train\\\\039_2016-04-07_Nottingham\\\\annotation_expert.txt',\n 'D:\\\\Databases\\\\NoXi\\\\NoXi_annotations_reliable_gold_standard_regression_with_additional_train_data\\\\English\\\\train\\\\052_2016-04-12_Nottingham\\\\annotation_expert.txt',\n 'D:\\\\Databases\\\\NoXi\\\\NoXi_annotations_reliable_gold_standard_regression_with_additional_train_data\\\\English\\\\train\\\\052_2016-04-12_Nottingham\\\\annotation_novice.txt',\n 'D:\\\\Databases\\\\NoXi\\\\NoXi_annotations_reliable_gold_standard_regression_with_additional_train_data\\\\French\\\\dev\\\\002_2016-03-17_Paris\\\\annotation_expert.txt',\n 'D:\\\\Databases\\\\NoXi\\\\NoXi_annotations_reliable_gold_standard_regression_with_additional_train_data\\\\French\\\\dev\\\\002_2016-03-17_Paris\\\\annotation_novice.txt',\n 'D:\\\\Databases\\\\NoXi\\\\NoXi_annotations_reliable_gold_standard_regression_with_additional_train_data\\\\French\\\\dev\\\\007_2016-03-21_Paris\\\\annotation_expert.txt',\n 'D:\\\\Databases\\\\NoXi\\\\NoXi_annotations_reliable_gold_standard_regression_with_additional_train_data\\\\French\\\\dev\\\\007_2016-03-21_Paris\\\\annotation_novice.txt',\n 'D:\\\\Databases\\\\NoXi\\\\NoXi_annotations_reliable_gold_standard_regression_with_additional_train_data\\\\French\\\\dev\\\\008_2016-03-23_Paris\\\\annotation_expert.txt',\n 'D:\\\\Databases\\\\NoXi\\\\NoXi_annotations_reliable_gold_standard_regression_with_additional_train_data\\\\French\\\\dev\\\\008_2016-03-23_Paris\\\\annotation_novice.txt',\n 'D:\\\\Databases\\\\NoXi\\\\NoXi_annotations_reliable_gold_standard_regression_with_additional_train_data\\\\French\\\\test\\\\003_2016-03-17_Paris\\\\annotation_expert.txt',\n 'D:\\\\Databases\\\\NoXi\\\\NoXi_annotations_reliable_gold_standard_regression_with_additional_train_data\\\\French\\\\test\\\\003_2016-03-17_Paris\\\\annotation_novice.txt',\n 'D:\\\\Databases\\\\NoXi\\\\NoXi_annotations_reliable_gold_standard_regression_with_additional_train_data\\\\French\\\\test\\\\015_2016-04-05_Paris\\\\annotation_expert.txt',\n 'D:\\\\Databases\\\\NoXi\\\\NoXi_annotations_reliable_gold_standard_regression_with_additional_train_data\\\\French\\\\test\\\\015_2016-04-05_Paris\\\\annotation_novice.txt',\n 'D:\\\\Databases\\\\NoXi\\\\NoXi_annotations_reliable_gold_standard_regression_with_additional_train_data\\\\French\\\\train\\\\001_2016-03-17_Paris\\\\annotation_expert.txt',\n 'D:\\\\Databases\\\\NoXi\\\\NoXi_annotations_reliable_gold_standard_regression_with_additional_train_data\\\\French\\\\train\\\\001_2016-03-17_Paris\\\\annotation_novice.txt',\n 'D:\\\\Databases\\\\NoXi\\\\NoXi_annotations_reliable_gold_standard_regression_with_additional_train_data\\\\French\\\\train\\\\004_2016-03-18_Paris\\\\annotation_expert.txt',\n 'D:\\\\Databases\\\\NoXi\\\\NoXi_annotations_reliable_gold_standard_regression_with_additional_train_data\\\\French\\\\train\\\\004_2016-03-18_Paris\\\\annotation_novice.txt',\n 'D:\\\\Databases\\\\NoXi\\\\NoXi_annotations_reliable_gold_standard_regression_with_additional_train_data\\\\French\\\\train\\\\005_2016-03-18_Paris\\\\annotation_expert.txt',\n 'D:\\\\Databases\\\\NoXi\\\\NoXi_annotations_reliable_gold_standard_regression_with_additional_train_data\\\\French\\\\train\\\\005_2016-03-18_Paris\\\\annotation_novice.txt',\n 'D:\\\\Databases\\\\NoXi\\\\NoXi_annotations_reliable_gold_standard_regression_with_additional_train_data\\\\French\\\\train\\\\006_2016-03-18_Paris\\\\annotation_expert.txt',\n 'D:\\\\Databases\\\\NoXi\\\\NoXi_annotations_reliable_gold_standard_regression_with_additional_train_data\\\\French\\\\train\\\\006_2016-03-18_Paris\\\\annotation_novice.txt',\n 'D:\\\\Databases\\\\NoXi\\\\NoXi_annotations_reliable_gold_standard_regression_with_additional_train_data\\\\French\\\\train\\\\009_2016-03-25_Paris\\\\annotation_expert.txt',\n 'D:\\\\Databases\\\\NoXi\\\\NoXi_annotations_reliable_gold_standard_regression_with_additional_train_data\\\\French\\\\train\\\\009_2016-03-25_Paris\\\\annotation_novice.txt',\n 'D:\\\\Databases\\\\NoXi\\\\NoXi_annotations_reliable_gold_standard_regression_with_additional_train_data\\\\French\\\\train\\\\010_2016-03-25_Paris\\\\annotation_expert.txt',\n 'D:\\\\Databases\\\\NoXi\\\\NoXi_annotations_reliable_gold_standard_regression_with_additional_train_data\\\\French\\\\train\\\\010_2016-03-25_Paris\\\\annotation_novice.txt',\n 'D:\\\\Databases\\\\NoXi\\\\NoXi_annotations_reliable_gold_standard_regression_with_additional_train_data\\\\French\\\\train\\\\011_2016-03-25_Paris\\\\annotation_expert.txt',\n 'D:\\\\Databases\\\\NoXi\\\\NoXi_annotations_reliable_gold_standard_regression_with_additional_train_data\\\\French\\\\train\\\\011_2016-03-25_Paris\\\\annotation_novice.txt',\n 'D:\\\\Databases\\\\NoXi\\\\NoXi_annotations_reliable_gold_standard_regression_with_additional_train_data\\\\French\\\\train\\\\012_2016-03-25_Paris\\\\annotation_expert.txt',\n 'D:\\\\Databases\\\\NoXi\\\\NoXi_annotations_reliable_gold_standard_regression_with_additional_train_data\\\\French\\\\train\\\\012_2016-03-25_Paris\\\\annotation_novice.txt',\n 'D:\\\\Databases\\\\NoXi\\\\NoXi_annotations_reliable_gold_standard_regression_with_additional_train_data\\\\French\\\\train\\\\013_2016-03-30_Paris\\\\annotation_expert.txt',\n 'D:\\\\Databases\\\\NoXi\\\\NoXi_annotations_reliable_gold_standard_regression_with_additional_train_data\\\\French\\\\train\\\\013_2016-03-30_Paris\\\\annotation_novice.txt',\n 'D:\\\\Databases\\\\NoXi\\\\NoXi_annotations_reliable_gold_standard_regression_with_additional_train_data\\\\French\\\\train\\\\014_2016-04-01_Paris\\\\annotation_expert.txt',\n 'D:\\\\Databases\\\\NoXi\\\\NoXi_annotations_reliable_gold_standard_regression_with_additional_train_data\\\\French\\\\train\\\\014_2016-04-01_Paris\\\\annotation_novice.txt',\n 'D:\\\\Databases\\\\NoXi\\\\NoXi_annotations_reliable_gold_standard_regression_with_additional_train_data\\\\German\\\\dev\\\\079_2016-05-24_Augsburg\\\\annotation_expert.txt',\n 'D:\\\\Databases\\\\NoXi\\\\NoXi_annotations_reliable_gold_standard_regression_with_additional_train_data\\\\German\\\\dev\\\\079_2016-05-24_Augsburg\\\\annotation_novice.txt',\n 'D:\\\\Databases\\\\NoXi\\\\NoXi_annotations_reliable_gold_standard_regression_with_additional_train_data\\\\German\\\\dev\\\\084_2016-05-31_Augsburg\\\\annotation_expert.txt',\n 'D:\\\\Databases\\\\NoXi\\\\NoXi_annotations_reliable_gold_standard_regression_with_additional_train_data\\\\German\\\\dev\\\\084_2016-05-31_Augsburg\\\\annotation_novice.txt',\n 'D:\\\\Databases\\\\NoXi\\\\NoXi_annotations_reliable_gold_standard_regression_with_additional_train_data\\\\German\\\\test\\\\066_2016-05-23_Augsburg\\\\annotation_expert.txt',\n 'D:\\\\Databases\\\\NoXi\\\\NoXi_annotations_reliable_gold_standard_regression_with_additional_train_data\\\\German\\\\test\\\\066_2016-05-23_Augsburg\\\\annotation_novice.txt',\n 'D:\\\\Databases\\\\NoXi\\\\NoXi_annotations_reliable_gold_standard_regression_with_additional_train_data\\\\German\\\\train\\\\067_2016-05-23_Augsburg\\\\annotation_novice.txt',\n 'D:\\\\Databases\\\\NoXi\\\\NoXi_annotations_reliable_gold_standard_regression_with_additional_train_data\\\\German\\\\train\\\\070_2016-05-23_Augsburg\\\\annotation_expert.txt',\n 'D:\\\\Databases\\\\NoXi\\\\NoXi_annotations_reliable_gold_standard_regression_with_additional_train_data\\\\German\\\\train\\\\070_2016-05-23_Augsburg\\\\annotation_novice.txt',\n 'D:\\\\Databases\\\\NoXi\\\\NoXi_annotations_reliable_gold_standard_regression_with_additional_train_data\\\\German\\\\train\\\\073_2016-05-23_Augsburg\\\\annotation_expert.txt',\n 'D:\\\\Databases\\\\NoXi\\\\NoXi_annotations_reliable_gold_standard_regression_with_additional_train_data\\\\German\\\\train\\\\076_2016-05-24_Augsburg\\\\annotation_expert.txt',\n 'D:\\\\Databases\\\\NoXi\\\\NoXi_annotations_reliable_gold_standard_regression_with_additional_train_data\\\\German\\\\train\\\\076_2016-05-24_Augsburg\\\\annotation_novice.txt',\n 'D:\\\\Databases\\\\NoXi\\\\NoXi_annotations_reliable_gold_standard_regression_with_additional_train_data\\\\German\\\\train\\\\080_2016-05-24_Augsburg\\\\annotation_expert.txt',\n 'D:\\\\Databases\\\\NoXi\\\\NoXi_annotations_reliable_gold_standard_regression_with_additional_train_data\\\\German\\\\train\\\\080_2016-05-24_Augsburg\\\\annotation_novice.txt',\n 'D:\\\\Databases\\\\NoXi\\\\NoXi_annotations_reliable_gold_standard_regression_with_additional_train_data\\\\German\\\\train\\\\081_2016-05-24_Augsburg\\\\annotation_expert.txt',\n 'D:\\\\Databases\\\\NoXi\\\\NoXi_annotations_reliable_gold_standard_regression_with_additional_train_data\\\\German\\\\train\\\\081_2016-05-24_Augsburg\\\\annotation_novice.txt',\n 'D:\\\\Databases\\\\NoXi\\\\NoXi_annotations_reliable_gold_standard_regression_with_additional_train_data\\\\German\\\\train\\\\082_2016-05-25_Augsburg\\\\annotation_expert.txt',\n 'D:\\\\Databases\\\\NoXi\\\\NoXi_annotations_reliable_gold_standard_regression_with_additional_train_data\\\\German\\\\train\\\\082_2016-05-25_Augsburg\\\\annotation_novice.txt',\n 'D:\\\\Databases\\\\NoXi\\\\NoXi_annotations_reliable_gold_standard_regression_with_additional_train_data\\\\German\\\\train\\\\083_2016-05-25_Augsburg\\\\annotation_expert.txt',\n 'D:\\\\Databases\\\\NoXi\\\\NoXi_annotations_reliable_gold_standard_regression_with_additional_train_data\\\\German\\\\train\\\\083_2016-05-25_Augsburg\\\\annotation_novice.txt']"
     },
     "execution_count": 27,
     "metadata": {},
     "output_type": "execute_result"
    }
   ],
   "source": [
    "all_label_paths"
   ],
   "metadata": {
    "collapsed": false,
    "pycharm": {
     "name": "#%%\n"
    }
   }
  },
  {
   "cell_type": "markdown",
   "source": [
    "<h2> Labels softening </h2>"
   ],
   "metadata": {
    "collapsed": false,
    "pycharm": {
     "name": "#%% md\n"
    }
   }
  },
  {
   "cell_type": "code",
   "execution_count": 53,
   "outputs": [],
   "source": [
    "# PROVED\n",
    "def convert_to_soft_one_hot_encoding(value:float, class_values:Tuple[float,...])->np.ndarray:\n",
    "    \"\"\"Converts given value to the soft one-hot encoding vector, taking into account provided class_values.\n",
    "\n",
    "    We soft labels using the following procedure:\n",
    "    We have 5 classes - 0, 0.25, 0.5, 0.75, 1\n",
    "    If the label is between two classes, we create a weighted soft one-hot encoding according to the closeness to classes.\n",
    "    For example, for the value 0.7, we have two concurent classes - 0.25 and 0.5. TO calculate weights, we need to do the following:\n",
    "    Calculate the distance between classes 0.75 - 0.5 = 0.25. Calculate the \"location\" of the point on this segment via substracting the value of the lowest class from him 0.7 - 0.5 = 0.2.\n",
    "    To get the value of soft one-hot encoding for \"right\" class (counting from the point), we need to divide the \"location\" of the point on the distance 0.2/0.25=0.8. The value of \"left\" class is simply 1.-0.8 (calculated \"right\" value).\n",
    "    Thus, we got an one-hot encoding vector [0. 0. 0.2 0.8 0.] for the point 0.7\n",
    "\n",
    "    :param value: float\n",
    "            value of the point to convert to the soft one-hot encoding\n",
    "    :param class_values: Tuple[float,...]\n",
    "            the values, which classes can be equal to\n",
    "    :return: List[float]\n",
    "            soft one-hot encoding\n",
    "    \"\"\"\n",
    "    # check the requirements for the value variable\n",
    "    if value<0 or value>1:\n",
    "        raise Exception(\"The value of the variable \\\"value\\\" is more than 1 or less than 0\")\n",
    "    # find the indexes of the classes, between which the value lies\n",
    "    idx_right_class=next(i for i,v in enumerate(class_values) if value<=v)\n",
    "    idx_left_class=idx_right_class-1\n",
    "    # calculate the \"distance\" as it is described in the function description\n",
    "    distance=class_values[idx_right_class]-class_values[idx_left_class]\n",
    "    # calculate \"location\" as it is described in the function description\n",
    "    location=value-class_values[idx_left_class]\n",
    "    # create one-hot encoding vector with zeros\n",
    "    one_hot_vector=np.zeros(len(class_values))\n",
    "    # calculate the probability values of the one-hot encoding vector (for nearest right and left from the point classes)\n",
    "    one_hot_vector[idx_right_class]=location/distance\n",
    "    one_hot_vector[idx_left_class]=1.-one_hot_vector[idx_right_class]\n",
    "    return one_hot_vector\n"
   ],
   "metadata": {
    "collapsed": false,
    "pycharm": {
     "name": "#%%\n"
    }
   }
  },
  {
   "cell_type": "code",
   "execution_count": 74,
   "outputs": [],
   "source": [
    "# TODO: Function for converting all labels to the soft ones (except for the test and validation set)\n",
    "# TODO: Function for converting all test and validation labels to the categorical ones (in one-hot encoding appearance) - try for edge poitns (for example, 0.375) the Hamming window, or just a mode for the fixed-sized window."
   ],
   "metadata": {
    "collapsed": false,
    "pycharm": {
     "name": "#%%\n"
    }
   }
  },
  {
   "cell_type": "code",
   "execution_count": 73,
   "outputs": [
    {
     "data": {
      "text/plain": "('D:\\\\Databases\\\\NoXi\\\\NoXi_annotations_reliable_gold_standard_regression_with_additional_train_data\\\\English\\\\train\\\\030_2016-04-06_Nottingham\\\\annotation_expert.txt',\n array([0.5 , 0.5 , 0.5 , ..., 0.75, 0.75, 0.75], dtype=float32))"
     },
     "execution_count": 73,
     "metadata": {},
     "output_type": "execute_result"
    }
   ],
   "source": [
    "list(all_labels.items())[10]"
   ],
   "metadata": {
    "collapsed": false,
    "pycharm": {
     "name": "#%%\n"
    }
   }
  },
  {
   "cell_type": "code",
   "execution_count": 69,
   "outputs": [],
   "source": [
    "a= [convert_to_soft_one_hot_encoding(x, (0., 0.25, 0.5, 0.75, 1.)) for x in var]"
   ],
   "metadata": {
    "collapsed": false,
    "pycharm": {
     "name": "#%%\n"
    }
   }
  },
  {
   "cell_type": "code",
   "execution_count": 71,
   "outputs": [],
   "source": [],
   "metadata": {
    "collapsed": false,
    "pycharm": {
     "name": "#%%\n"
    }
   }
  },
  {
   "cell_type": "code",
   "execution_count": 72,
   "outputs": [
    {
     "data": {
      "text/plain": "array([[0., 0., 1., 0., 0.],\n       [0., 0., 1., 0., 0.],\n       [0., 0., 1., 0., 0.],\n       ...,\n       [0., 0., 0., 1., 0.],\n       [0., 0., 0., 1., 0.],\n       [0., 0., 0., 1., 0.]])"
     },
     "execution_count": 72,
     "metadata": {},
     "output_type": "execute_result"
    }
   ],
   "source": [
    "a"
   ],
   "metadata": {
    "collapsed": false,
    "pycharm": {
     "name": "#%%\n"
    }
   }
  }
 ],
 "metadata": {
  "kernelspec": {
   "display_name": "Python 3",
   "language": "python",
   "name": "python3"
  },
  "language_info": {
   "codemirror_mode": {
    "name": "ipython",
    "version": 2
   },
   "file_extension": ".py",
   "mimetype": "text/x-python",
   "name": "python",
   "nbconvert_exporter": "python",
   "pygments_lexer": "ipython2",
   "version": "2.7.6"
  }
 },
 "nbformat": 4,
 "nbformat_minor": 0
}