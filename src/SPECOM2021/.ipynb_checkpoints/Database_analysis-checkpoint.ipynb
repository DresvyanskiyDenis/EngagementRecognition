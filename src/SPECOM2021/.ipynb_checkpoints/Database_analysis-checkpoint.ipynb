{
 "cells": [
  {
   "cell_type": "code",
   "execution_count": 9,
   "id": "dc6d3198-7107-4559-af41-6973aef15652",
   "metadata": {},
   "outputs": [],
   "source": [
    "# imports\n",
    "import numpy as np\n",
    "import pandas as pd\n",
    "import seaborn"
   ]
  },
  {
   "cell_type": "code",
   "execution_count": 10,
   "id": "285447f7-aa7e-4961-9dd4-01c257f374e4",
   "metadata": {},
   "outputs": [],
   "source": [
    "# params and paths\n",
    "path_to_train_frames=r'D:\\Databases\\DAiSEE\\DAiSEE\\train_preprocessed\\extracted_faces'\n",
    "path_to_train_labels=r'D:\\Databases\\DAiSEE\\DAiSEE\\Labels\\TrainLabels.csv'\n",
    "path_to_dev_frames=r'D:\\Databases\\DAiSEE\\DAiSEE\\dev_preprocessed\\extracted_faces'\n",
    "path_to_dev_labels=r'D:\\Databases\\DAiSEE\\DAiSEE\\Labels\\ValidationLabels.csv'\n",
    "path_to_test_frames=r'D:\\Databases\\DAiSEE\\DAiSEE\\test_preprocessed\\extracted_faces'\n",
    "path_to_test_labels=r'D:\\Databases\\DAiSEE\\DAiSEE\\Labels\\TestLabels.csv'"
   ]
  },
  {
   "cell_type": "code",
   "execution_count": 11,
   "id": "ab97df36-95a6-4f44-a6c2-74ebc76f0b42",
   "metadata": {
    "tags": []
   },
   "outputs": [],
   "source": [
    "# load labels in dataframe\n",
    "train_labels=pd.read_csv(path_to_train_labels)\n",
    "dev_labels=pd.read_csv(path_to_dev_labels)\n",
    "test_labels=pd.read_csv(path_to_test_labels)"
   ]
  },
  {
   "cell_type": "markdown",
   "id": "3fd515f4-142a-4993-b43e-dd9e81380e0d",
   "metadata": {},
   "source": [
    "<font size=\"5\">**Class distribution analysis**</font>"
   ]
  },
  {
   "cell_type": "code",
   "execution_count": 31,
   "id": "529fe60e-d760-45db-acd1-e0ad6ecd0088",
   "metadata": {},
   "outputs": [],
   "source": [
    "train_distribution = train_labels.drop(columns=['ClipID'])['Engagement'].value_counts()\n",
    "train_distribution = train_distribution.reset_index()\n",
    "train_distribution.columns= ['num_class', 'train_engagement']\n",
    "dev_distribution = dev_labels.drop(columns=['ClipID'])['Engagement'].value_counts()\n",
    "dev_distribution = dev_distribution.reset_index()\n",
    "dev_distribution.columns= ['num_class', 'dev_engagement']\n",
    "test_distribution = test_labels.drop(columns=['ClipID'])['Engagement'].value_counts()\n",
    "test_distribution = test_distribution.reset_index()\n",
    "test_distribution.columns= ['num_class', 'test_engagement']\n",
    "all_distributions=train_distribution.merge(dev_distribution, on='num_class').merge(test_distribution, on='num_class')"
   ]
  },
  {
   "cell_type": "code",
   "execution_count": 34,
   "id": "6dda9fa9-44cc-4f52-a7ce-d8993edf9b7e",
   "metadata": {},
   "outputs": [
    {
     "data": {
      "text/plain": [
       "<AxesSubplot:xlabel='num_class'>"
      ]
     },
     "execution_count": 34,
     "metadata": {},
     "output_type": "execute_result"
    },
    {
     "data": {
      "image/png": "[encoded data removed]",
      "text/plain": [
       "<Figure size 432x288 with 1 Axes>"
      ]
     },
     "metadata": {
      "needs_background": "light"
     },
     "output_type": "display_data"
    }
   ],
   "source": [
    "all_distributions.plot.bar(x='num_class')"
   ]
  },
  {
   "cell_type": "code",
   "execution_count": 41,
   "id": "21af3bab-5b97-4541-8975-4cf96cecccb4",
   "metadata": {},
   "outputs": [
    {
     "data": {
      "text/html": [
       "<div>\n",
       "<style scoped>\n",
       "    .dataframe tbody tr th:only-of-type {\n",
       "        vertical-align: middle;\n",
       "    }\n",
       "\n",
       "    .dataframe tbody tr th {\n",
       "        vertical-align: top;\n",
       "    }\n",
       "\n",
       "    .dataframe thead th {\n",
       "        text-align: right;\n",
       "    }\n",
       "</style>\n",
       "<table border=\"1\" class=\"dataframe\">\n",
       "  <thead>\n",
       "    <tr style=\"text-align: right;\">\n",
       "      <th></th>\n",
       "      <th>num_class</th>\n",
       "      <th>train_engagement</th>\n",
       "    </tr>\n",
       "  </thead>\n",
       "  <tbody>\n",
       "    <tr>\n",
       "      <th>0</th>\n",
       "      <td>2</td>\n",
       "      <td>48.842852</td>\n",
       "    </tr>\n",
       "    <tr>\n",
       "      <th>1</th>\n",
       "      <td>3</td>\n",
       "      <td>46.547219</td>\n",
       "    </tr>\n",
       "    <tr>\n",
       "      <th>2</th>\n",
       "      <td>1</td>\n",
       "      <td>3.975364</td>\n",
       "    </tr>\n",
       "    <tr>\n",
       "      <th>3</th>\n",
       "      <td>0</td>\n",
       "      <td>0.634565</td>\n",
       "    </tr>\n",
       "  </tbody>\n",
       "</table>\n",
       "</div>"
      ],
      "text/plain": [
       "   num_class  train_engagement\n",
       "0          2         48.842852\n",
       "1          3         46.547219\n",
       "2          1          3.975364\n",
       "3          0          0.634565"
      ]
     },
     "execution_count": 41,
     "metadata": {},
     "output_type": "execute_result"
    }
   ],
   "source": [
    "train_distribution['train_engagement']=train_distribution['train_engagement']/train_distribution['train_engagement'].sum()*100\n",
    "train_distribution"
   ]
  },
  {
   "cell_type": "code",
   "execution_count": 43,
   "id": "3ad9b323-d156-432d-98e2-d943eb8598f6",
   "metadata": {},
   "outputs": [
    {
     "data": {
      "text/html": [
       "<div>\n",
       "<style scoped>\n",
       "    .dataframe tbody tr th:only-of-type {\n",
       "        vertical-align: middle;\n",
       "    }\n",
       "\n",
       "    .dataframe tbody tr th {\n",
       "        vertical-align: top;\n",
       "    }\n",
       "\n",
       "    .dataframe thead th {\n",
       "        text-align: right;\n",
       "    }\n",
       "</style>\n",
       "<table border=\"1\" class=\"dataframe\">\n",
       "  <thead>\n",
       "    <tr style=\"text-align: right;\">\n",
       "      <th></th>\n",
       "      <th>num_class</th>\n",
       "      <th>dev_engagement</th>\n",
       "    </tr>\n",
       "  </thead>\n",
       "  <tbody>\n",
       "    <tr>\n",
       "      <th>0</th>\n",
       "      <td>2</td>\n",
       "      <td>56.892932</td>\n",
       "    </tr>\n",
       "    <tr>\n",
       "      <th>1</th>\n",
       "      <td>3</td>\n",
       "      <td>31.490553</td>\n",
       "    </tr>\n",
       "    <tr>\n",
       "      <th>2</th>\n",
       "      <td>1</td>\n",
       "      <td>10.006998</td>\n",
       "    </tr>\n",
       "    <tr>\n",
       "      <th>3</th>\n",
       "      <td>0</td>\n",
       "      <td>1.609517</td>\n",
       "    </tr>\n",
       "  </tbody>\n",
       "</table>\n",
       "</div>"
      ],
      "text/plain": [
       "   num_class  dev_engagement\n",
       "0          2       56.892932\n",
       "1          3       31.490553\n",
       "2          1       10.006998\n",
       "3          0        1.609517"
      ]
     },
     "execution_count": 43,
     "metadata": {},
     "output_type": "execute_result"
    }
   ],
   "source": [
    "dev_distribution['dev_engagement']=dev_distribution['dev_engagement']/dev_distribution['dev_engagement'].sum()*100\n",
    "dev_distribution"
   ]
  },
  {
   "cell_type": "code",
   "execution_count": 44,
   "id": "f39f72ee-b5ce-4957-8d8d-47c2c1676d4d",
   "metadata": {},
   "outputs": [
    {
     "data": {
      "text/html": [
       "<div>\n",
       "<style scoped>\n",
       "    .dataframe tbody tr th:only-of-type {\n",
       "        vertical-align: middle;\n",
       "    }\n",
       "\n",
       "    .dataframe tbody tr th {\n",
       "        vertical-align: top;\n",
       "    }\n",
       "\n",
       "    .dataframe thead th {\n",
       "        text-align: right;\n",
       "    }\n",
       "</style>\n",
       "<table border=\"1\" class=\"dataframe\">\n",
       "  <thead>\n",
       "    <tr style=\"text-align: right;\">\n",
       "      <th></th>\n",
       "      <th>num_class</th>\n",
       "      <th>test_engagement</th>\n",
       "    </tr>\n",
       "  </thead>\n",
       "  <tbody>\n",
       "    <tr>\n",
       "      <th>0</th>\n",
       "      <td>2</td>\n",
       "      <td>49.439462</td>\n",
       "    </tr>\n",
       "    <tr>\n",
       "      <th>1</th>\n",
       "      <td>3</td>\n",
       "      <td>45.627803</td>\n",
       "    </tr>\n",
       "    <tr>\n",
       "      <th>2</th>\n",
       "      <td>1</td>\n",
       "      <td>4.708520</td>\n",
       "    </tr>\n",
       "    <tr>\n",
       "      <th>3</th>\n",
       "      <td>0</td>\n",
       "      <td>0.224215</td>\n",
       "    </tr>\n",
       "  </tbody>\n",
       "</table>\n",
       "</div>"
      ],
      "text/plain": [
       "   num_class  test_engagement\n",
       "0          2        49.439462\n",
       "1          3        45.627803\n",
       "2          1         4.708520\n",
       "3          0         0.224215"
      ]
     },
     "execution_count": 44,
     "metadata": {},
     "output_type": "execute_result"
    }
   ],
   "source": [
    "test_distribution['test_engagement']=test_distribution['test_engagement']/test_distribution['test_engagement'].sum()*100\n",
    "test_distribution"
   ]
  }
 ],
 "metadata": {
  "kernelspec": {
   "display_name": "Python 3",
   "language": "python",
   "name": "python3"
  },
  "language_info": {
   "codemirror_mode": {
    "name": "ipython",
    "version": 3
   },
   "file_extension": ".py",
   "mimetype": "text/x-python",
   "name": "python",
   "nbconvert_exporter": "python",
   "pygments_lexer": "ipython3",
   "version": "3.8.8"
  }
 },
 "nbformat": 4,
 "nbformat_minor": 5
}
