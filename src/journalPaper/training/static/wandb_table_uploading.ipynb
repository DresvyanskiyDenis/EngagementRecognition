{
 "cells": [
  {
   "cell_type": "code",
   "execution_count": 1,
   "metadata": {
    "collapsed": true
   },
   "outputs": [],
   "source": [
    "import wandb\n",
    "import os\n",
    "import glob\n",
    "import pandas as pd\n",
    "import numpy as np\n",
    "from tqdm import tqdm\n",
    "import gc"
   ]
  },
  {
   "cell_type": "code",
   "execution_count": 2,
   "outputs": [
    {
     "name": "stderr",
     "output_type": "stream",
     "text": [
      "wandb: Currently logged in as: denisdresvyanskiy. Use `wandb login --relogin` to force relogin\n"
     ]
    }
   ],
   "source": [
    "!wandb login"
   ],
   "metadata": {
    "collapsed": false,
    "pycharm": {
     "name": "#%%\n"
    }
   }
  },
  {
   "cell_type": "code",
   "execution_count": 3,
   "outputs": [],
   "source": [
    "# params\n",
    "WANDB_PROJECT = \"Engagement_recognition_F2F_pose\"\n",
    "PATH_TO_CSV = r\"C:\\Users\\Professional\\Desktop\\info.csv\""
   ],
   "metadata": {
    "collapsed": false,
    "pycharm": {
     "name": "#%%\n"
    }
   }
  },
  {
   "cell_type": "code",
   "execution_count": 4,
   "outputs": [
    {
     "name": "stderr",
     "output_type": "stream",
     "text": [
      "\u001B[34m\u001B[1mwandb\u001B[0m: Currently logged in as: \u001B[33mdenisdresvyanskiy\u001B[0m. Use \u001B[1m`wandb login --relogin`\u001B[0m to force relogin\n"
     ]
    },
    {
     "data": {
      "text/plain": "<IPython.core.display.HTML object>",
      "text/html": "wandb version 0.15.3 is available!  To upgrade, please run:\n $ pip install wandb --upgrade"
     },
     "metadata": {},
     "output_type": "display_data"
    },
    {
     "data": {
      "text/plain": "<IPython.core.display.HTML object>",
      "text/html": "Tracking run with wandb version 0.13.3"
     },
     "metadata": {},
     "output_type": "display_data"
    },
    {
     "data": {
      "text/plain": "<IPython.core.display.HTML object>",
      "text/html": "Run data is saved locally in <code>C:\\Users\\Professional\\PycharmProjects\\EngagementRecognition\\src\\journalPaper\\training\\static\\wandb\\run-20230601_204700-2t1fw0ai</code>"
     },
     "metadata": {},
     "output_type": "display_data"
    },
    {
     "data": {
      "text/plain": "<IPython.core.display.HTML object>",
      "text/html": "Syncing run <strong><a href=\"https://wandb.ai/denisdresvyanskiy/Engagement_recognition_F2F_pose/runs/2t1fw0ai\" target=\"_blank\">lunar-salad-46</a></strong> to <a href=\"https://wandb.ai/denisdresvyanskiy/Engagement_recognition_F2F_pose\" target=\"_blank\">Weights & Biases</a> (<a href=\"https://wandb.me/run\" target=\"_blank\">docs</a>)<br/>"
     },
     "metadata": {},
     "output_type": "display_data"
    }
   ],
   "source": [
    "# create an Artifact\n",
    "run = wandb.init(project=WANDB_PROJECT, entity=None, job_type=\"upload\")\n",
    "artifact = wandb.Artifact(\"test_results_table\", type=\"table\")"
   ],
   "metadata": {
    "collapsed": false,
    "pycharm": {
     "name": "#%%\n"
    }
   }
  },
  {
   "cell_type": "code",
   "execution_count": 5,
   "outputs": [
    {
     "name": "stdout",
     "output_type": "stream",
     "text": [
      "                    ID      model_type  discriminative_learning  \\\n",
      "0        rich-cloud-45  Modified_HRNet                    False   \n",
      "1  absurd-firebrand-44  Modified_HRNet                    False   \n",
      "2        fresh-bush-43  Modified_HRNet                    False   \n",
      "3   dashing-pyramid-42  Modified_HRNet                    False   \n",
      "4         zany-dawn-41  Modified_HRNet                    False   \n",
      "5      worldly-pond-40  Modified_HRNet                    False   \n",
      "\n",
      "   gradual_unfreezing  loss_multiplication_factor  best_val_recall  \\\n",
      "0               False                           1         0.597069   \n",
      "1               False                          10         0.596701   \n",
      "2               False                           1         0.598793   \n",
      "3               False                         100         0.602371   \n",
      "4               False                          10         0.605048   \n",
      "5               False                        1000         0.606260   \n",
      "\n",
      "   test_accuracy  test_precision  test_recall   test_f1  \n",
      "0       0.531657        0.451154     0.486662  0.460153  \n",
      "1       0.519689        0.431101     0.508089  0.446869  \n",
      "2       0.515064        0.428054     0.537342  0.440942  \n",
      "3       0.556808        0.475826     0.513744  0.459110  \n",
      "4       0.536103        0.455967     0.539358  0.417737  \n",
      "5       0.565276        0.520203     0.487880  0.451373  \n"
     ]
    }
   ],
   "source": [
    "# load csv file and create a W and B table out of it\n",
    "table = pd.read_csv(PATH_TO_CSV)\n",
    "print(table)\n",
    "table = wandb.Table(data = table)"
   ],
   "metadata": {
    "collapsed": false,
    "pycharm": {
     "name": "#%%\n"
    }
   }
  },
  {
   "cell_type": "code",
   "execution_count": 8,
   "outputs": [
    {
     "data": {
      "text/plain": "<IPython.core.display.HTML object>",
      "text/html": "Waiting for W&B process to finish... <strong style=\"color:green\">(success).</strong>"
     },
     "metadata": {},
     "output_type": "display_data"
    },
    {
     "data": {
      "text/plain": "VBox(children=(Label(value='0.003 MB of 0.003 MB uploaded (0.000 MB deduped)\\r'), FloatProgress(value=1.0, max…",
      "application/vnd.jupyter.widget-view+json": {
       "version_major": 2,
       "version_minor": 0,
       "model_id": "d7af7372b94e46e599ade9b448ee219e"
      }
     },
     "metadata": {},
     "output_type": "display_data"
    },
    {
     "data": {
      "text/plain": "<IPython.core.display.HTML object>",
      "text/html": "Synced <strong style=\"color:#cdcd00\">lunar-salad-46</strong>: <a href=\"https://wandb.ai/denisdresvyanskiy/Engagement_recognition_F2F_pose/runs/2t1fw0ai\" target=\"_blank\">https://wandb.ai/denisdresvyanskiy/Engagement_recognition_F2F_pose/runs/2t1fw0ai</a><br/>Synced 5 W&B file(s), 0 media file(s), 1 artifact file(s) and 0 other file(s)"
     },
     "metadata": {},
     "output_type": "display_data"
    },
    {
     "data": {
      "text/plain": "<IPython.core.display.HTML object>",
      "text/html": "Find logs at: <code>.\\wandb\\run-20230601_204700-2t1fw0ai\\logs</code>"
     },
     "metadata": {},
     "output_type": "display_data"
    }
   ],
   "source": [
    "# add table to artifact and upload it\n",
    "artifact.add(table, \"test_results_pose_engagement_recognition\")\n",
    "# finish the run for loading data and labels to wanbd project\n",
    "run.log_artifact(artifact)\n",
    "run.finish()"
   ],
   "metadata": {
    "collapsed": false,
    "pycharm": {
     "name": "#%%\n"
    }
   }
  },
  {
   "cell_type": "code",
   "execution_count": null,
   "outputs": [],
   "source": [],
   "metadata": {
    "collapsed": false,
    "pycharm": {
     "name": "#%%\n"
    }
   }
  }
 ],
 "metadata": {
  "kernelspec": {
   "display_name": "Python 3",
   "language": "python",
   "name": "python3"
  },
  "language_info": {
   "codemirror_mode": {
    "name": "ipython",
    "version": 2
   },
   "file_extension": ".py",
   "mimetype": "text/x-python",
   "name": "python",
   "nbconvert_exporter": "python",
   "pygments_lexer": "ipython2",
   "version": "2.7.6"
  }
 },
 "nbformat": 4,
 "nbformat_minor": 0
}